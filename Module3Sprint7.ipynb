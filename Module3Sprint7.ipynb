{
  "nbformat": 4,
  "nbformat_minor": 0,
  "metadata": {
    "colab": {
      "provenance": []
    },
    "kernelspec": {
      "name": "python3",
      "display_name": "Python 3"
    },
    "language_info": {
      "name": "python"
    }
  },
  "cells": [
    {
      "cell_type": "code",
      "execution_count": 1,
      "metadata": {
        "id": "UCR1BeTStTXh",
        "colab": {
          "base_uri": "https://localhost:8080/"
        },
        "outputId": "9b4fa46f-4f24-45af-a72a-87b9fb9b3021"
      },
      "outputs": [
        {
          "output_type": "stream",
          "name": "stdout",
          "text": [
            "Accuracy score of guessing: 0.34444444444444444\n",
            "Accuracy score of the logistic regression model: 0.9666666666666667\n"
          ]
        }
      ],
      "source": [
        "# Import necessary libraries\n",
        "import pandas as pd\n",
        "from sklearn.datasets import load_iris\n",
        "from sklearn.model_selection import train_test_split\n",
        "\n",
        "# Load iris dataset\n",
        "iris = load_iris()\n",
        "\n",
        "# Create a pandas dataframe with features and target\n",
        "df = pd.DataFrame(data=iris.data, columns=iris.feature_names)\n",
        "df['target'] = iris.target\n",
        "\n",
        "# Choose target column\n",
        "target_col = 'target'\n",
        "\n",
        "# Decide on the task and metric\n",
        "# For this example, let's assume we're doing classification and will use accuracy\n",
        "task = 'classification'\n",
        "metric = 'accuracy'\n",
        "\n",
        "# Split the data into train, validation, and test sets\n",
        "train, test = train_test_split(df, test_size=0.2, random_state=42)\n",
        "train, val = train_test_split(train, test_size=0.25, random_state=42)\n",
        "\n",
        "# Clean the data and exclude any irrelevant features\n",
        "# In this example, we will not exclude any features and assume the data is clean\n",
        "features = iris.feature_names\n",
        "\n",
        "# Get a summary of the numerical features\n",
        "train[features].describe()\n",
        "\n",
        "# Get the most common class in the target column\n",
        "most_common_class = train[target_col].mode()[0]\n",
        "\n",
        "# Calculate the frequency of the most common class in the training set\n",
        "frequency = sum(train[target_col] == most_common_class) / len(train)\n",
        "\n",
        "# Calculate the accuracy score of guessing the most common class\n",
        "guessing_score = frequency\n",
        "print('Accuracy score of guessing:', guessing_score)\n",
        "\n",
        "# Import necessary libraries\n",
        "from sklearn.linear_model import LogisticRegression\n",
        "from sklearn.metrics import accuracy_score\n",
        "\n",
        "# Create the model object\n",
        "model = LogisticRegression(random_state=42)\n",
        "\n",
        "# Fit the model on the training data\n",
        "model.fit(train[features], train[target_col])\n",
        "\n",
        "# Make predictions on the validation data\n",
        "val_predictions = model.predict(val[features])\n",
        "\n",
        "# Calculate the accuracy score on the validation data\n",
        "val_score = accuracy_score(val[target_col], val_predictions)\n",
        "\n",
        "print('Accuracy score of the logistic regression model:', val_score)"
      ]
    },
    {
      "cell_type": "code",
      "source": [
        "from xgboost import XGBClassifier\n",
        "\n",
        "# Create the XGBoost model object\n",
        "model_xgb = XGBClassifier(n_estimators=100, max_depth=3, random_state=42)\n",
        "\n",
        "# Fit the model on the training data\n",
        "model_xgb.fit(train[features], train[target_col])\n",
        "\n",
        "# Make predictions on the validation data\n",
        "val_predictions_xgb = model_xgb.predict(val[features])\n",
        "\n",
        "# Calculate the accuracy score on the validation data\n",
        "val_score_xgb = accuracy_score(val[target_col], val_predictions_xgb)\n",
        "\n",
        "print('Accuracy score of the XGBoost model:', val_score_xgb)\n"
      ],
      "metadata": {
        "colab": {
          "base_uri": "https://localhost:8080/"
        },
        "id": "WbS6TkUWts3s",
        "outputId": "b8bc22c3-c862-4cdb-954c-a6247fc04af4"
      },
      "execution_count": 2,
      "outputs": [
        {
          "output_type": "stream",
          "name": "stdout",
          "text": [
            "Accuracy score of the XGBoost model: 0.9\n"
          ]
        }
      ]
    },
    {
      "cell_type": "code",
      "source": [
        "import eli5\n",
        "from eli5.sklearn import PermutationImportance\n",
        "\n",
        "# Create the permutation importance object\n",
        "perm = PermutationImportance(model, random_state=42)\n",
        "\n",
        "# Fit the object on the validation data\n",
        "perm.fit(val[features], val[target_col])\n",
        "\n",
        "# Print the feature importances\n",
        "eli5.show_weights(perm, feature_names=features)\n"
      ],
      "metadata": {
        "colab": {
          "base_uri": "https://localhost:8080/",
          "height": 104
        },
        "id": "7bTl18UWt0wR",
        "outputId": "96af37fa-7c29-42df-a6d8-a638b017a97e"
      },
      "execution_count": 5,
      "outputs": [
        {
          "output_type": "execute_result",
          "data": {
            "text/plain": [
              "<IPython.core.display.HTML object>"
            ],
            "text/html": [
              "\n",
              "    <style>\n",
              "    table.eli5-weights tr:hover {\n",
              "        filter: brightness(85%);\n",
              "    }\n",
              "</style>\n",
              "\n",
              "\n",
              "\n",
              "    \n",
              "\n",
              "    \n",
              "\n",
              "    \n",
              "\n",
              "    \n",
              "\n",
              "    \n",
              "\n",
              "    \n",
              "\n",
              "\n",
              "    \n",
              "\n",
              "    \n",
              "\n",
              "    \n",
              "\n",
              "    \n",
              "\n",
              "    \n",
              "\n",
              "    \n",
              "\n",
              "\n",
              "    \n",
              "\n",
              "    \n",
              "\n",
              "    \n",
              "\n",
              "    \n",
              "\n",
              "    \n",
              "        <table class=\"eli5-weights eli5-feature-importances\" style=\"border-collapse: collapse; border: none; margin-top: 0em; table-layout: auto;\">\n",
              "    <thead>\n",
              "    <tr style=\"border: none;\">\n",
              "        <th style=\"padding: 0 1em 0 0.5em; text-align: right; border: none;\">Weight</th>\n",
              "        <th style=\"padding: 0 0.5em 0 0.5em; text-align: left; border: none;\">Feature</th>\n",
              "    </tr>\n",
              "    </thead>\n",
              "    <tbody>\n",
              "    \n",
              "        <tr style=\"background-color: hsl(120, 100.00%, 80.00%); border: none;\">\n",
              "            <td style=\"padding: 0 1em 0 0.5em; text-align: right; border: none;\">\n",
              "                0.5333\n",
              "                \n",
              "                    &plusmn; 0.0422\n",
              "                \n",
              "            </td>\n",
              "            <td style=\"padding: 0 0.5em 0 0.5em; text-align: left; border: none;\">\n",
              "                petal length (cm)\n",
              "            </td>\n",
              "        </tr>\n",
              "    \n",
              "        <tr style=\"background-color: hsl(120, 100.00%, 94.70%); border: none;\">\n",
              "            <td style=\"padding: 0 1em 0 0.5em; text-align: right; border: none;\">\n",
              "                0.0800\n",
              "                \n",
              "                    &plusmn; 0.0327\n",
              "                \n",
              "            </td>\n",
              "            <td style=\"padding: 0 0.5em 0 0.5em; text-align: left; border: none;\">\n",
              "                petal width (cm)\n",
              "            </td>\n",
              "        </tr>\n",
              "    \n",
              "        <tr style=\"background-color: hsl(120, 100.00%, 97.99%); border: none;\">\n",
              "            <td style=\"padding: 0 1em 0 0.5em; text-align: right; border: none;\">\n",
              "                0.0200\n",
              "                \n",
              "                    &plusmn; 0.0327\n",
              "                \n",
              "            </td>\n",
              "            <td style=\"padding: 0 0.5em 0 0.5em; text-align: left; border: none;\">\n",
              "                sepal length (cm)\n",
              "            </td>\n",
              "        </tr>\n",
              "    \n",
              "        <tr style=\"background-color: hsl(120, 100.00%, 99.07%); border: none;\">\n",
              "            <td style=\"padding: 0 1em 0 0.5em; text-align: right; border: none;\">\n",
              "                0.0067\n",
              "                \n",
              "                    &plusmn; 0.0267\n",
              "                \n",
              "            </td>\n",
              "            <td style=\"padding: 0 0.5em 0 0.5em; text-align: left; border: none;\">\n",
              "                sepal width (cm)\n",
              "            </td>\n",
              "        </tr>\n",
              "    \n",
              "    \n",
              "    </tbody>\n",
              "</table>\n",
              "    \n",
              "\n",
              "    \n",
              "\n",
              "\n",
              "    \n",
              "\n",
              "    \n",
              "\n",
              "    \n",
              "\n",
              "    \n",
              "\n",
              "    \n",
              "\n",
              "    \n",
              "\n",
              "\n",
              "\n"
            ]
          },
          "metadata": {},
          "execution_count": 5
        }
      ]
    },
    {
      "cell_type": "code",
      "source": [],
      "metadata": {
        "id": "qJdl8L3iuA7B"
      },
      "execution_count": null,
      "outputs": []
    }
  ]
}