{
  "nbformat": 4,
  "nbformat_minor": 0,
  "metadata": {
    "colab": {
      "provenance": []
    },
    "kernelspec": {
      "name": "python3",
      "display_name": "Python 3"
    },
    "language_info": {
      "name": "python"
    }
  },
  "cells": [
    {
      "cell_type": "code",
      "execution_count": 1,
      "metadata": {
        "id": "UCR1BeTStTXh"
      },
      "outputs": [],
      "source": [
        "# Import necessary libraries\n",
        "import pandas as pd\n",
        "from sklearn.datasets import load_iris\n",
        "from sklearn.model_selection import train_test_split\n",
        "\n",
        "# Load iris dataset\n",
        "iris = load_iris()\n",
        "\n",
        "# Create a pandas dataframe with features and target\n",
        "df = pd.DataFrame(data=iris.data, columns=iris.feature_names)\n",
        "df['target'] = iris.target\n",
        "\n",
        "# Choose target column\n",
        "target_col = 'target'\n",
        "\n",
        "# Decide on the task and metric\n",
        "# For this example, let's assume we're doing classification and will use accuracy\n",
        "task = 'classification'\n",
        "metric = 'accuracy'\n",
        "\n",
        "# Split the data into train, validation, and test sets\n",
        "train, test = train_test_split(df, test_size=0.2, random_state=42)\n",
        "train, val = train_test_split(train, test_size=0.25, random_state=42)\n",
        "\n",
        "# Clean the data and exclude any irrelevant features\n",
        "# In this example, we will not exclude any features and assume the data is clean\n",
        "features = iris.feature_names\n"
      ]
    }
  ]
}