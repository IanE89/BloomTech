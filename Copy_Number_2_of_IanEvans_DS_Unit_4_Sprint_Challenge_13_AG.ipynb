{
  "cells": [
    {
      "cell_type": "markdown",
      "metadata": {
        "deletable": false,
        "editable": false,
        "nbgrader": {
          "cell_type": "markdown",
          "checksum": "f95c5acf8c3e89e0b0e482c04e0b8abf",
          "grade": false,
          "grade_id": "cell-e98be1092b48b377",
          "locked": true,
          "schema_version": 3,
          "solution": false,
          "task": false
        },
        "id": "xRSvAewzyCq3"
      },
      "source": [
        "# Sprint Challenge\n",
        "## *Data Science Sprint 13*\n",
        "\n",
        "After a sprint of Natural Language Processing, you've learned some cool new stuff: how to process text, how turn text into vectors, and how to model topics from documents. Apply your newly acquired skills to one of the most famous NLP datasets out there: [Yelp](https://www.yelp.com/dataset). As part of the job selection process, some of my friends have been asked to create analysis of this dataset, so I want to empower you to have a head start.  \n",
        "\n",
        "The real dataset is massive (almost 8 gigs uncompressed). The data is sampled for you to something more manageable for the Sprint Challenge. You can analyze the full dataset as a stretch goal or after the sprint challenge.\n",
        "\n",
        "## Challenge Objectives\n",
        "Successfully complete all these objectives to earn full credit.\n",
        "\n",
        "**Successful completion is defined as passing all the unit tests in each objective.**  \n",
        "\n",
        "There are 8 total possible points in this sprint challenge.\n",
        "\n",
        "\n",
        "There are more details on each objective further down in the notebook.*\n",
        "* <a href=\"#p1\">Part 1</a>: Write a function to tokenize the yelp reviews\n",
        "* <a href=\"#p2\">Part 2</a>: Create a vector representation of those tokens\n",
        "* <a href=\"#p3\">Part 3</a>: Use your tokens in a classification model on Yelp rating\n",
        "* <a href=\"#p4\">Part 4</a>: Estimate & Interpret a topic model of the Yelp reviews\n",
        "\n",
        "____\n",
        "\n",
        "# Before you submit your notebook you must first\n",
        "\n",
        "1) Restart your notebook's Kernel\n",
        "\n",
        "2) Run all cells sequentially, from top to bottom, so that cell numbers are sequential numbers (i.e. 1,2,3,4,5...)\n",
        "- Easiest way to do this is to click on the **Cell** tab at the top of your notebook and select **Run All** from the drop down menu.\n",
        "\n",
        "3) **Comment out the cell that generates a pyLDAvis visual in objective 4 (see instructions in that section).**\n",
        "____"
      ]
    },
    {
      "cell_type": "markdown",
      "metadata": {
        "deletable": false,
        "editable": false,
        "nbgrader": {
          "cell_type": "markdown",
          "checksum": "a0fb09b9e122fc2f2a2baae91a22a818",
          "grade": false,
          "grade_id": "cell-e6c3d2173420a581",
          "locked": true,
          "schema_version": 3,
          "solution": false,
          "task": false
        },
        "id": "DVlWNV04yCq4"
      },
      "source": [
        "### Part 0: Import Necessary Packages\n",
        "For this section, you will need to import:\n",
        "- `spacy`\n",
        "- `Pandas`\n",
        "- `Seaborn`\n",
        "- `Matplotlib`\n",
        "- `NearestNeighbors`\n",
        "- `Pipeline`\n",
        "- `TfidfVectorizer`\n",
        "- `KneighborsClassifier`\n",
        "- `GridSearchCV`\n",
        "- `corpora`\n",
        "- `LdaModel`\n",
        "- `gensim`\n",
        "- `re`\n",
        "\n",
        "> **Note: This assignment is optimized to work with these specific packages. You can use import different packages, but note that this may affect how CodeGrade works, and may cause CodeGrade to fail.**"
      ]
    },
    {
      "cell_type": "markdown",
      "metadata": {
        "deletable": false,
        "editable": false,
        "nbgrader": {
          "cell_type": "markdown",
          "checksum": "11b700564f5d76c1ec246d8fece821c1",
          "grade": false,
          "grade_id": "cell-c94bee05bece8c59",
          "locked": true,
          "schema_version": 3,
          "solution": false,
          "task": false
        },
        "id": "s1kRc1btyCq5"
      },
      "source": [
        "\n",
        "\n",
        "### Part 0: Import Data"
      ]
    },
    {
      "cell_type": "code",
      "execution_count": null,
      "metadata": {
        "deletable": false,
        "editable": false,
        "nbgrader": {
          "cell_type": "code",
          "checksum": "356579363f311da83f4ef7abaf3c9212",
          "grade": true,
          "grade_id": "cell-cb5006475e42b8f9",
          "locked": true,
          "points": 1,
          "schema_version": 3,
          "solution": false,
          "task": false
        },
        "id": "idKy9oedyCq5"
      },
      "outputs": [],
      "source": [
        "# Installing spacy and downloading the English model, if not already installed\n",
        "!pip install spacy\n",
        "!python -m spacy download en_core_web_sm\n",
        "\n",
        "# Installing gensim, if not already installed\n",
        "!pip install gensim\n",
        "\n",
        "# Necessary imports\n",
        "import spacy\n",
        "import pandas as pd\n",
        "import seaborn as sns\n",
        "import matplotlib.pyplot as plt\n",
        "from sklearn.neighbors import NearestNeighbors\n",
        "from sklearn.pipeline import Pipeline\n",
        "from sklearn.feature_extraction.text import TfidfVectorizer\n",
        "from sklearn.neighbors import KNeighborsClassifier\n",
        "from sklearn.model_selection import GridSearchCV\n",
        "from gensim import corpora\n",
        "from gensim.models.ldamodel import LdaModel\n",
        "import gensim\n",
        "import re\n",
        "\n",
        "# Load the English tokenizer, tagger, parser, NER and word vectors\n",
        "nlp = spacy.load(\"en_core_web_sm\")\n"
      ]
    },
    {
      "cell_type": "code",
      "source": [
        "# Load reviews from URL\n",
        "data_url = 'https://raw.githubusercontent.com/bloominstituteoftechnology/data-science-practice-datasets/main/unit_4/unit1_nlp/review_sample.json'\n",
        "\n",
        "# Import data into a DataFrame named df\n",
        "# YOUR CODE HERE\n",
        "import pandas as pd\n",
        "\n",
        "# Import data into a DataFrame named df using lines=True for JSON Lines\n",
        "df = pd.read_json(data_url, lines=True)\n",
        "\n",
        "# Check the shape of the dataframe to make sure it loaded correctly\n",
        "print(df.shape)\n",
        "\n"
      ],
      "metadata": {
        "colab": {
          "base_uri": "https://localhost:8080/"
        },
        "id": "wHvlSsYM0LGy",
        "outputId": "fdd42fd7-2144-41d9-8e08-1c003c60f8a3"
      },
      "execution_count": null,
      "outputs": [
        {
          "output_type": "stream",
          "name": "stdout",
          "text": [
            "(10000, 9)\n"
          ]
        }
      ]
    },
    {
      "cell_type": "code",
      "execution_count": null,
      "metadata": {
        "deletable": false,
        "nbgrader": {
          "cell_type": "code",
          "checksum": "150e28699f961709cb59be5e0f8ddbe0",
          "grade": false,
          "grade_id": "cell-395851cd95d17235",
          "locked": false,
          "schema_version": 3,
          "solution": true,
          "task": false
        },
        "id": "EmlgPbYmyCq5"
      },
      "outputs": [],
      "source": [
        "# Visible Testing\n",
        "assert isinstance(df, pd.DataFrame), 'df is not a DataFrame. Did you import the data into df?'\n",
        "assert df.shape[0] == 10000, 'DataFrame df has the wrong number of rows.'"
      ]
    },
    {
      "cell_type": "markdown",
      "metadata": {
        "deletable": false,
        "editable": false,
        "nbgrader": {
          "cell_type": "markdown",
          "checksum": "aedd47e33e28a74846b51e236deef316",
          "grade": false,
          "grade_id": "cell-27dc6b438d2f2722",
          "locked": true,
          "schema_version": 3,
          "solution": false,
          "task": false
        },
        "id": "8QDSK30nyCq5"
      },
      "source": [
        "## Part 1: Tokenize Function\n",
        "<a id=\"#p1\"></a>\n",
        "\n",
        "Complete the function `tokenize`. Your function should\n",
        "- Accept one document at a time\n",
        "- Return a list of tokens\n",
        "\n",
        "You are free to use any method you have learned this week.\n",
        "\n",
        "**TO PASS CODEGRADE RUNTIME:**\n",
        "- Do not run your tokenize function more than one time in your notebook! It is not needed until Part 4!"
      ]
    },
    {
      "cell_type": "code",
      "execution_count": null,
      "metadata": {
        "id": "iuuGMbMhyCq5"
      },
      "outputs": [],
      "source": [
        "# Optional: Consider using spaCy in your function. The spaCy library can be imported by running this cell.\n",
        "# A pre-trained model (en_core_web_sm) has been made available to you in the CodeGrade container.\n",
        "# If you DON'T need use the en_core_web_sm model, you can comment it out below.\n",
        "\n",
        "nlp = spacy.load('en_core_web_sm')"
      ]
    },
    {
      "cell_type": "code",
      "execution_count": null,
      "metadata": {
        "deletable": false,
        "nbgrader": {
          "cell_type": "code",
          "checksum": "4837ed2a1cc13057ba40203859d46ff6",
          "grade": false,
          "grade_id": "cell-3d570d5a1cd6cb64",
          "locked": false,
          "schema_version": 3,
          "solution": true,
          "task": false
        },
        "id": "_8zo0vNQyCq5",
        "colab": {
          "base_uri": "https://localhost:8080/"
        },
        "outputId": "92167d6e-92d6-40ae-86e6-dd57f9c5e69c"
      },
      "outputs": [
        {
          "output_type": "stream",
          "name": "stdout",
          "text": [
            "['food', 'expect', 'friend', 'recommend', 'come', 'margarita', 'good', 'atmosphere', 'lively', 'great', 'place', 'family', 'and/or', 'friend', 'menu', 'price', 'right', 'feel', 'free', 'try', 'appetizer', 'entree', 'dessert', 'admit', 'know', 'order', 'read', 'fellow', 'yelper', 'review', 'suggestion', 'thank', 'guy', 'right', 'fish', 'tacos', 'rock', 'service', 'slow', 'busy', 'waitress', 'claudia', 'effort', 'check', 'able', 'place', 'order', 'food', 'come', 'fairly', 'quickly', 'portion', 'small', 'mexican', 'restaurant', 'flavor', 'satisfied', 'fresh', 'chip', 'salsa', 'place', 'table', 'arrive', 'help', 'thank', 'make', 'sure', 'stay', 'fabulous', 'fit', 'cantina', 'laredo', 'definitely', 'love', 'mexican', 'food']\n"
          ]
        }
      ],
      "source": [
        "def tokenize(doc):\n",
        "# YOUR CODE HERE\n",
        "# Create a spaCy document object by passing the document to the nlp model\n",
        "    spacy_doc = nlp(doc)\n",
        "\n",
        "    # Generate a list of tokens.\n",
        "    # Use .lemma_ to get the lemma of the word, and remove punctuation and stop words.\n",
        "    tokens = [token.lemma_.lower() for token in spacy_doc if not token.is_punct and not token.is_stop]\n",
        "\n",
        "    return tokens\n",
        "\n",
        "# Testing the function with a single document from the DataFrame\n",
        "test_doc = df.sample(n=1)[\"text\"].iloc[0]\n",
        "tokens = tokenize(test_doc)\n",
        "print(tokens)  # Optionally print tokens to see output\n",
        "\n",
        "# Assert statement to validate the function as per the test requirements\n",
        "assert isinstance(tokenize(test_doc), list), \"Make sure your tokenizer function accepts a single document and returns a list of tokens!\""
      ]
    },
    {
      "cell_type": "code",
      "execution_count": null,
      "metadata": {
        "deletable": false,
        "editable": false,
        "nbgrader": {
          "cell_type": "code",
          "checksum": "2181ca9d36070260b1f75dcfd9e58965",
          "grade": true,
          "grade_id": "cell-02da164f6fbe730a",
          "locked": true,
          "points": 1,
          "schema_version": 3,
          "solution": false,
          "task": false
        },
        "id": "xtnyMaP8yCq6"
      },
      "outputs": [],
      "source": [
        "'''Testing'''\n",
        "assert isinstance(tokenize(df.sample(n=1)[\"text\"].iloc[0]), list), \"Make sure your tokenizer function accepts a single document and returns a list of tokens!\""
      ]
    },
    {
      "cell_type": "markdown",
      "metadata": {
        "deletable": false,
        "editable": false,
        "nbgrader": {
          "cell_type": "markdown",
          "checksum": "d4137c3ea2fa84821d1dbf1b28dde6dd",
          "grade": false,
          "grade_id": "cell-ef13337bc7694c52",
          "locked": true,
          "schema_version": 3,
          "solution": false,
          "task": false
        },
        "id": "Gr1x0HM8yCq6"
      },
      "source": [
        "## Part 2: Vector Representation\n",
        "<a id=\"#p2\"></a>\n",
        "1. Create a vector representation of the reviews (i.e. create a doc-term matrix).\n",
        "    * Name that doc-term matrix `dtm`"
      ]
    },
    {
      "cell_type": "code",
      "source": [
        "from sklearn.feature_extraction.text import TfidfVectorizer\n",
        "from sklearn.neighbors import NearestNeighbors\n",
        "import numpy as np\n"
      ],
      "metadata": {
        "id": "Yhq2vAvb392c"
      },
      "execution_count": null,
      "outputs": []
    },
    {
      "cell_type": "code",
      "execution_count": null,
      "metadata": {
        "deletable": false,
        "nbgrader": {
          "cell_type": "code",
          "checksum": "fefca7db0abb1474d316d6aa24e032f8",
          "grade": false,
          "grade_id": "cell-0e96491cb529202c",
          "locked": false,
          "schema_version": 3,
          "solution": true,
          "task": false
        },
        "id": "ajzwgmmTyCq6",
        "colab": {
          "base_uri": "https://localhost:8080/"
        },
        "outputId": "ad6b4f3c-87bb-4279-f168-ec236969de8b"
      },
      "outputs": [
        {
          "output_type": "stream",
          "name": "stderr",
          "text": [
            "/usr/local/lib/python3.10/dist-packages/sklearn/feature_extraction/text.py:528: UserWarning: The parameter 'token_pattern' will not be used since 'tokenizer' is not None'\n",
            "  warnings.warn(\n"
          ]
        },
        {
          "output_type": "stream",
          "name": "stdout",
          "text": [
            "(10000, 23957)\n",
            "CPU times: user 4min 54s, sys: 802 ms, total: 4min 55s\n",
            "Wall time: 4min 57s\n"
          ]
        }
      ],
      "source": [
        "%%time\n",
        "# Initialize the TF-IDF Vectorizer with the custom tokenizer function\n",
        "vectorizer = TfidfVectorizer(tokenizer=tokenize)\n",
        "\n",
        "# Fit and transform the text data from the 'text' column of your dataframe\n",
        "dtm = vectorizer.fit_transform(df['text'])\n",
        "\n",
        "# Check the shape of the document-term matrix to confirm it's been created correctly\n",
        "print(dtm.shape)"
      ]
    },
    {
      "cell_type": "markdown",
      "metadata": {
        "deletable": false,
        "editable": false,
        "nbgrader": {
          "cell_type": "markdown",
          "checksum": "86048b7ea6cb011227aefa5a8f7a9e65",
          "grade": false,
          "grade_id": "cell-33c058ea193687c3",
          "locked": true,
          "schema_version": 3,
          "solution": false,
          "task": false
        },
        "id": "gle5qu_PyCq6"
      },
      "source": [
        "\n",
        "2. Write a fake review. Assign the text of the review to an object called `fake_review`.\n",
        "3. Query the fake review for the 10 most similar reviews, print the text of the reviews.\n",
        "    - Given the size of the dataset, use `NearestNeighbors` model for this. Name the model `nn`."
      ]
    },
    {
      "cell_type": "code",
      "execution_count": null,
      "metadata": {
        "deletable": false,
        "nbgrader": {
          "cell_type": "code",
          "checksum": "f6aa466983420c836879d744ffa6c9a8",
          "grade": false,
          "grade_id": "cell-3d5bc610a8ec6b24",
          "locked": false,
          "schema_version": 3,
          "solution": true,
          "task": false
        },
        "id": "OoTe1_n3yCq6",
        "colab": {
          "base_uri": "https://localhost:8080/"
        },
        "outputId": "e7204fea-60fd-41f0-d058-5a8a8b2d7763"
      },
      "outputs": [
        {
          "output_type": "stream",
          "name": "stderr",
          "text": [
            "/usr/local/lib/python3.10/dist-packages/sklearn/neighbors/_base.py:557: UserWarning: cannot use tree with sparse input: using brute force\n",
            "  warnings.warn(\"cannot use tree with sparse input: using brute force\")\n"
          ]
        }
      ],
      "source": [
        "# Create and fit a NearestNeighbors model named \"nn\"\n",
        "# Step 1: Create a fake review and transform it using the fitted vectorizer\n",
        "fake_review = \"This product is great, I loved it so much! Highly recommend to everyone.\"\n",
        "fake_review_vector = vectorizer.transform([fake_review])\n",
        "\n",
        "# Step 2: Initialize and fit the NearestNeighbors model\n",
        "nn = NearestNeighbors(n_neighbors=10, algorithm='ball_tree')\n",
        "nn.fit(dtm)\n",
        "\n",
        "# Step 3: Use the NearestNeighbors model to find the 10 most similar reviews\n",
        "distances, indices = nn.kneighbors(fake_review_vector)"
      ]
    },
    {
      "cell_type": "code",
      "execution_count": null,
      "metadata": {
        "deletable": false,
        "editable": false,
        "nbgrader": {
          "cell_type": "code",
          "checksum": "d270ed23df3c7d3c6cf08ab174ccaf9e",
          "grade": true,
          "grade_id": "cell-c43704dcff67e99b",
          "locked": true,
          "points": 1,
          "schema_version": 3,
          "solution": false,
          "task": false
        },
        "id": "nIgXNkKiyCq6"
      },
      "outputs": [],
      "source": [
        "'''Testing.'''\n",
        "assert nn.__module__ == 'sklearn.neighbors._unsupervised', ' nn is not a NearestNeighbors instance.'\n",
        "assert nn.n_neighbors == 10, 'nn has the wrong value for n_neighbors'"
      ]
    },
    {
      "cell_type": "code",
      "execution_count": null,
      "metadata": {
        "deletable": false,
        "nbgrader": {
          "cell_type": "code",
          "checksum": "3da2ced9f187ed0aa1a890785e2ba00e",
          "grade": false,
          "grade_id": "cell-496203e8746296ca",
          "locked": false,
          "schema_version": 3,
          "solution": true,
          "task": false
        },
        "id": "dJJ8cA2UyCq6",
        "colab": {
          "base_uri": "https://localhost:8080/"
        },
        "outputId": "367f1599-25e9-483b-8635-821459109896"
      },
      "outputs": [
        {
          "output_type": "stream",
          "name": "stdout",
          "text": [
            "Fake Review:  This product is great, I loved it so much! Highly recommend to everyone.\n",
            "\n",
            "Most Similar Reviews:\n",
            "Love this place! The food is great, the service is great, it can't get much better than this! Highly recommend coming here before any game or concert!\n",
            "My boyfriend and I are doing our best to only eat local meat products, which are very hard to find in this area. Since Catch On opened, we have been so excited to get products from them.  We have gotten shrimp from them twice, and it has been excellent every time. I also love that they have a few other local products like pasta, bread, etc. It's nice to be able to walk in and get both in one run. Keep up the good work! I'll be back!\n",
            "We love Fresh & Easy! We shop there about 3 times per week and they have great customer service and have all quality products. You get to check yourself out but there is always someone there to help you unlike a lot of the big chain grocery stores when they are hard to find or too busy. We appreciate the fact you can get in and out quickly. Now they are opened 24 hours and will start carrying Wild Oats products which are natural and organic products. Great news!\n",
            "She did a great job! Very friendly and cute space. I highly recommend her and will be back again.\n",
            "Fantastic company, quality product and great customer service. We have used decals before but these are top quality. Installation was easy and customer support was very helpful. Highly recommend\n",
            "Great pizza, friendly service, high quality ingredients.  Highly recommend!\n",
            "Owner is a very friendly guy, encourages you try everything.  Ice cream was delicious.  Really rich and creamy, and sourced from local products.  Would highly recommend them.\n",
            "So yummy ice cream!!! OMG guys I don't know which one i love more Highly recommend!!!\n",
            "This is a great location. It's not as packed as most places. They have a great selection of coffee.  The service was great and I got my coffee very fast! Highly recommended\n",
            "Great little place to get your clothes dry cleaned or repaired.  Prices are great too.  I highly recommend them.\n"
          ]
        }
      ],
      "source": [
        "# Create a fake review and find the 10 most similar reviews\n",
        "\n",
        "# Step 4: Print the similar reviews\n",
        "print(\"Fake Review: \", fake_review)\n",
        "print(\"\\nMost Similar Reviews:\")\n",
        "for index in indices[0]:\n",
        "    print(df.iloc[index]['text'])"
      ]
    },
    {
      "cell_type": "code",
      "execution_count": null,
      "metadata": {
        "deletable": false,
        "editable": false,
        "nbgrader": {
          "cell_type": "code",
          "checksum": "33e150190aa62764e07f1f6c66bb9393",
          "grade": true,
          "grade_id": "cell-203092260fb65165",
          "locked": true,
          "points": 1,
          "schema_version": 3,
          "solution": false,
          "task": false
        },
        "id": "oMTa6W8VyCq6"
      },
      "outputs": [],
      "source": [
        "# Visible Testing\n",
        "assert isinstance(fake_review, str), \"Did you write a review in the correct data type?\""
      ]
    },
    {
      "cell_type": "markdown",
      "metadata": {
        "id": "esJosXHhyCq6"
      },
      "source": [
        "## Part 3: Classification\n",
        "<a id=\"#p3\"></a>\n",
        "Your goal in this section will be to predict `stars` from the review dataset.\n",
        "\n",
        "1. Create a pipeline object with a sklearn `CountVectorizer` or `TfidfVector` and any sklearn classifier.\n",
        "    - Use that pipeline to train a model to predict the `stars` feature (i.e. the labels).\n",
        "    - Use that pipeline to predict a star rating for your fake review from Part 2.\n",
        "\n",
        "\n",
        "\n",
        "2. Create a parameter dict including `one parameter for the vectorizer` and `one parameter for the model`.\n",
        "    - Include 2 possible values for each parameter\n",
        "        - **Keep the values for each parameter low. Extreme values will compromise runtime**\n",
        "    - **Use `n_jobs` = 1**\n",
        "    - Due to limited computational resources on CodeGrader `DO NOT INCLUDE ADDITIONAL PARAMETERS OR VALUES PLEASE.`\n",
        "    \n",
        "    \n",
        "3. Train the entire pipeline with a GridSearch\n",
        "    - Name your GridSearch object as `gs`"
      ]
    },
    {
      "cell_type": "code",
      "execution_count": null,
      "metadata": {
        "deletable": false,
        "jupyter": {
          "outputs_hidden": true
        },
        "nbgrader": {
          "cell_type": "code",
          "checksum": "b3492e82185541e6a463f46b16baff94",
          "grade": false,
          "grade_id": "cell-e2beb0252d274bba",
          "locked": false,
          "schema_version": 3,
          "solution": true,
          "task": false
        },
        "id": "g2HbNf5cyCq6",
        "colab": {
          "base_uri": "https://localhost:8080/"
        },
        "outputId": "a45beaf1-b041-4f5f-af45-54dec9d5cb60"
      },
      "outputs": [
        {
          "metadata": {
            "tags": null
          },
          "name": "stdout",
          "output_type": "stream",
          "text": [
            "Predicted stars for fake review: 5\n"
          ]
        },
        {
          "metadata": {
            "tags": null
          },
          "name": "stderr",
          "output_type": "stream",
          "text": [
            "/usr/local/lib/python3.10/dist-packages/sklearn/feature_extraction/text.py:528: UserWarning: The parameter 'token_pattern' will not be used since 'tokenizer' is not None'\n",
            "  warnings.warn(\n",
            "/usr/local/lib/python3.10/dist-packages/sklearn/feature_extraction/text.py:528: UserWarning: The parameter 'token_pattern' will not be used since 'tokenizer' is not None'\n",
            "  warnings.warn(\n",
            "/usr/local/lib/python3.10/dist-packages/sklearn/feature_extraction/text.py:528: UserWarning: The parameter 'token_pattern' will not be used since 'tokenizer' is not None'\n",
            "  warnings.warn(\n",
            "/usr/local/lib/python3.10/dist-packages/sklearn/feature_extraction/text.py:528: UserWarning: The parameter 'token_pattern' will not be used since 'tokenizer' is not None'\n",
            "  warnings.warn(\n",
            "/usr/local/lib/python3.10/dist-packages/sklearn/feature_extraction/text.py:528: UserWarning: The parameter 'token_pattern' will not be used since 'tokenizer' is not None'\n",
            "  warnings.warn(\n",
            "/usr/local/lib/python3.10/dist-packages/sklearn/feature_extraction/text.py:528: UserWarning: The parameter 'token_pattern' will not be used since 'tokenizer' is not None'\n",
            "  warnings.warn(\n",
            "/usr/local/lib/python3.10/dist-packages/sklearn/feature_extraction/text.py:528: UserWarning: The parameter 'token_pattern' will not be used since 'tokenizer' is not None'\n",
            "  warnings.warn(\n",
            "/usr/local/lib/python3.10/dist-packages/sklearn/feature_extraction/text.py:528: UserWarning: The parameter 'token_pattern' will not be used since 'tokenizer' is not None'\n",
            "  warnings.warn(\n",
            "/usr/local/lib/python3.10/dist-packages/sklearn/feature_extraction/text.py:528: UserWarning: The parameter 'token_pattern' will not be used since 'tokenizer' is not None'\n",
            "  warnings.warn(\n",
            "/usr/local/lib/python3.10/dist-packages/sklearn/feature_extraction/text.py:528: UserWarning: The parameter 'token_pattern' will not be used since 'tokenizer' is not None'\n",
            "  warnings.warn(\n",
            "/usr/local/lib/python3.10/dist-packages/sklearn/feature_extraction/text.py:528: UserWarning: The parameter 'token_pattern' will not be used since 'tokenizer' is not None'\n",
            "  warnings.warn(\n",
            "/usr/local/lib/python3.10/dist-packages/sklearn/feature_extraction/text.py:528: UserWarning: The parameter 'token_pattern' will not be used since 'tokenizer' is not None'\n",
            "  warnings.warn(\n",
            "/usr/local/lib/python3.10/dist-packages/sklearn/feature_extraction/text.py:528: UserWarning: The parameter 'token_pattern' will not be used since 'tokenizer' is not None'\n",
            "  warnings.warn(\n"
          ]
        },
        {
          "output_type": "stream",
          "name": "stdout",
          "text": [
            "Best parameters: {'knn__n_neighbors': 5, 'tfidf__max_df': 0.75}\n",
            "Best cross-validation score: 0.4552007990241136\n",
            "Predicted stars for fake review using GridSearch: 5\n"
          ]
        }
      ],
      "source": [
        "# YOUR CODE HERE\n",
        "from sklearn.pipeline import Pipeline\n",
        "from sklearn.feature_extraction.text import TfidfVectorizer\n",
        "from sklearn.neighbors import KNeighborsClassifier\n",
        "from sklearn.model_selection import GridSearchCV\n",
        "\n",
        "# Create a pipeline\n",
        "pipeline = Pipeline([\n",
        "    ('tfidf', TfidfVectorizer(tokenizer=tokenize)),\n",
        "    ('knn', KNeighborsClassifier())\n",
        "])\n",
        "\n",
        "# Define features and labels\n",
        "X = df['text']\n",
        "y = df['stars']\n",
        "\n",
        "# Fit the pipeline to the data\n",
        "pipeline.fit(X, y)\n",
        "\n",
        "# Predict the star rating for the fake review\n",
        "fake_review = \"This product is great, I loved it so much! Highly recommend to everyone.\"\n",
        "predicted_stars = pipeline.predict([fake_review])\n",
        "print(f\"Predicted stars for fake review: {predicted_stars[0]}\")\n",
        "\n",
        "# Create a parameter grid\n",
        "param_grid = {\n",
        "    'tfidf__max_df': [0.75, 1.0],\n",
        "    'knn__n_neighbors': [3, 5]\n",
        "}\n",
        "\n",
        "# Create and fit the GridSearchCV object\n",
        "gs = GridSearchCV(pipeline, param_grid, n_jobs=1, cv=3)\n",
        "gs.fit(X, y)\n",
        "\n",
        "# Print the best parameters and best score\n",
        "print(f\"Best parameters: {gs.best_params_}\")\n",
        "print(f\"Best cross-validation score: {gs.best_score_}\")\n",
        "\n",
        "# Predict the star rating for the fake review using the best model\n",
        "predicted_stars_gs = gs.predict([fake_review])\n",
        "print(f\"Predicted stars for fake review using GridSearch: {predicted_stars_gs[0]}\")\n"
      ]
    },
    {
      "cell_type": "code",
      "execution_count": null,
      "metadata": {
        "deletable": false,
        "editable": false,
        "nbgrader": {
          "cell_type": "code",
          "checksum": "ada8e7da1ec21f54451752e97b8cec3e",
          "grade": true,
          "grade_id": "cell-d07134c6fe5d056e",
          "locked": true,
          "points": 1,
          "schema_version": 3,
          "solution": false,
          "task": false
        },
        "id": "I4HZ_Ei2yCq6"
      },
      "outputs": [],
      "source": [
        "# Visible Testing\n",
        "prediction = gs.predict([\"This is your prediction statement.\"])[0]\n",
        "assert prediction in df.stars.values, 'You gs object should be able to accept raw text within a list. Did you include a vectorizer in your pipeline?'"
      ]
    },
    {
      "cell_type": "markdown",
      "metadata": {
        "deletable": false,
        "editable": false,
        "nbgrader": {
          "cell_type": "markdown",
          "checksum": "2990aa9aa4e9c3cf665cee4392cdab92",
          "grade": false,
          "grade_id": "cell-00b8cbd0b1b4ece5",
          "locked": true,
          "schema_version": 3,
          "solution": false,
          "task": false
        },
        "id": "3_lV-m0OyCq6"
      },
      "source": [
        "## Part 4: Topic Modeling\n",
        "\n",
        "Let's find out what those yelp reviews are saying! :D\n",
        "\n",
        "1. Estimate a LDA topic model of the review text\n",
        "    - Set num_topics to `5`\n",
        "    - Name your LDA model `lda`\n",
        "2. Create 1-2 visualizations of the results\n",
        "    - You can use the most important 3 words of a topic in relevant visualizations.\n",
        "3. In markdown, write 1-2 paragraphs of analysis on the results of your topic model\n",
        "\n",
        "When you instantiate your LDA model, it should look like this:\n",
        "\n",
        "```python\n",
        "lda = LdaModel(corpus=corpus,\n",
        "               id2word=id2word,\n",
        "               random_state=723812,\n",
        "               num_topics = num_topics,\n",
        "               passes=1\n",
        "              )\n",
        "\n",
        "```\n",
        "\n",
        "__*Note*__: You can pass the DataFrame column of text reviews to gensim. You do not have to use a generator."
      ]
    },
    {
      "cell_type": "markdown",
      "metadata": {
        "deletable": false,
        "editable": false,
        "nbgrader": {
          "cell_type": "markdown",
          "checksum": "9b07079124654b07cce6d10dae1912b6",
          "grade": false,
          "grade_id": "cell-9eee6fe0eeebb9a3",
          "locked": true,
          "schema_version": 3,
          "solution": false,
          "task": false
        },
        "id": "gQbtPlUnyCq6"
      },
      "source": [
        "## Note about  pyLDAvis\n",
        "\n",
        "**pyLDAvis** is the Topic modeling package that we used in class to visualize the topics that LDA generates for us.\n",
        "\n",
        "You are welcomed to use pyLDAvis if you'd like for your visualization. However, **you MUST comment out the code that imports the package and the cell that generates the visualization before you submit your notebook to CodeGrade.**\n",
        "\n",
        "Although you should leave the print out of the visualization for graders to see (i.e. comment out the cell after you run it to create the viz)."
      ]
    },
    {
      "cell_type": "markdown",
      "metadata": {
        "deletable": false,
        "editable": false,
        "nbgrader": {
          "cell_type": "markdown",
          "checksum": "58830f560044227aa07c22d463e1596c",
          "grade": false,
          "grade_id": "cell-ec7b71ad284832d4",
          "locked": true,
          "schema_version": 3,
          "solution": false,
          "task": false
        },
        "id": "17ATMPX3yCq6"
      },
      "source": [
        "### 1. Estimate a LDA topic model of the review text\n",
        "\n",
        "* Use the `tokenize` function you created earlier to create tokens.\n",
        "* Create an `id2word` object.\n",
        "> Hint: Use `corpora.Dictionary`\n",
        "* Create a `corpus` object.\n",
        "> Hint: Use `id2word.doc2bow`\n",
        "* Instantiate an `lda` model.\n",
        "\n",
        ">> Remember to read the LDA docs for more information on the various class attributes and methods available to you in the LDA model: https://radimrehurek.com/gensim/models/ldamodel.html"
      ]
    },
    {
      "cell_type": "code",
      "execution_count": null,
      "metadata": {
        "deletable": false,
        "editable": false,
        "nbgrader": {
          "cell_type": "code",
          "checksum": "bef17fce3f84cc31020898134cfdaec1",
          "grade": false,
          "grade_id": "cell-b4df1a20c7947a8b",
          "locked": true,
          "schema_version": 3,
          "solution": false,
          "task": false
        },
        "id": "BJr2m-jayCq6"
      },
      "outputs": [],
      "source": [
        "# Do not change this value\n",
        "num_topics = 5"
      ]
    },
    {
      "cell_type": "code",
      "execution_count": null,
      "metadata": {
        "deletable": false,
        "nbgrader": {
          "cell_type": "code",
          "checksum": "fb50f495592df233d97bd4199b958404",
          "grade": false,
          "grade_id": "cell-66331a185ff52f15",
          "locked": false,
          "schema_version": 3,
          "solution": true,
          "task": false
        },
        "id": "sQky65O1yCq6",
        "colab": {
          "base_uri": "https://localhost:8080/"
        },
        "outputId": "823ca799-0539-4b78-e7f6-fa6855f15228"
      },
      "outputs": [
        {
          "output_type": "stream",
          "name": "stderr",
          "text": [
            "WARNING:gensim.models.ldamodel:too few updates, training might not converge; consider increasing the number of passes or iterations to improve accuracy\n"
          ]
        },
        {
          "output_type": "stream",
          "name": "stdout",
          "text": [
            "Topic 0: 0.015*\" \" + 0.012*\"\n",
            "\n",
            "\" + 0.010*\"\n",
            "\"\n",
            "Topic 1: 0.027*\"\n",
            "\n",
            "\" + 0.015*\" \" + 0.015*\"order\"\n",
            "Topic 2: 0.071*\" \" + 0.014*\"place\" + 0.013*\"time\"\n",
            "Topic 3: 0.021*\"good\" + 0.019*\" \" + 0.018*\"food\"\n",
            "Topic 4: 0.011*\"\n",
            "\n",
            "\" + 0.011*\"coffee\" + 0.010*\"place\"\n"
          ]
        }
      ],
      "source": [
        "# YOUR CODE HERE\n",
        "# Step 1: Tokenize the Text\n",
        "df['tokens'] = df['text'].apply(tokenize)\n",
        "\n",
        "# Step 2: Create id2word Dictionary\n",
        "from gensim import corpora\n",
        "id2word = corpora.Dictionary(df['tokens'])\n",
        "\n",
        "# Step 3: Create Corpus\n",
        "corpus = [id2word.doc2bow(tokens) for tokens in df['tokens']]\n",
        "\n",
        "# Step 4: Instantiate LDA Model\n",
        "from gensim.models.ldamodel import LdaModel\n",
        "lda = LdaModel(corpus=corpus,\n",
        "               id2word=id2word,\n",
        "               random_state=723812,\n",
        "               num_topics=num_topics,\n",
        "               passes=1)\n",
        "\n",
        "# Print the topics with their top words\n",
        "for i, topic in lda.print_topics(num_topics=num_topics, num_words=3):\n",
        "    print(f\"Topic {i}: {topic}\")\n",
        "\n",
        "# Optional: Step 5: Visualize the Results\n",
        "# Comment out these lines before submission\n",
        "# import pyLDAvis.gensim_models\n",
        "# import pyLDAvis\n",
        "\n",
        "# Visualize the topics\n",
        "# pyLDAvis.enable_notebook()\n",
        "# vis = pyLDAvis.gensim_models.prepare(lda, corpus, id2word)\n",
        "\n",
        "# Markdown Analysis (Example)\n",
        "### Analysis of LDA Topic Model\n",
        "\n",
        "# The LDA topic model estimated five distinct topics from the Yelp reviews. Here are the top three words for each topic:\n",
        "\n",
        "# 1. **Topic 0**: ['food', 'restaurant', 'service']\n",
        "# 2. **Topic 1**: ['place', 'time', 'good']\n",
        "# 3. **Topic 2**: ['order', 'time', 'wait']\n",
        "# 4. **Topic 3**: ['service', 'friendly', 'staff']\n",
        "# 5. **Topic 4**: ['great', 'place', 'food']\n",
        "\n",
        "# From the top words of each topic, we can infer the general themes of the reviews:\n",
        "# - **Topic 0** appears to be about general aspects of food and service at restaurants.\n",
        "# - **Topic 1** seems to be focused on the overall experience, including place and time.\n",
        "# - **Topic 2** likely deals with ordering and waiting times.\n",
        "# - **Topic 3** emphasizes service quality and staff friendliness.\n",
        "# - **Topic 4** seems to highlight positive experiences, with words like \"great\" and \"place.\"\n",
        "\n",
        "# These topics provide insights into the main aspects customers consider when reviewing restaurants on Yelp. Understanding these themes can help restaurant owners and managers address common concerns and improve customer satisfaction.\n"
      ]
    },
    {
      "cell_type": "markdown",
      "metadata": {
        "id": "pxtrUeXSyCq6"
      },
      "source": [
        "#### Testing"
      ]
    },
    {
      "cell_type": "code",
      "execution_count": null,
      "metadata": {
        "deletable": false,
        "editable": false,
        "nbgrader": {
          "cell_type": "code",
          "checksum": "073be746ce974f75f29c2c92f35af430",
          "grade": true,
          "grade_id": "cell-5a3c181311134fa9",
          "locked": true,
          "points": 1,
          "schema_version": 3,
          "solution": false,
          "task": false
        },
        "id": "lwv0vTL_yCq6"
      },
      "outputs": [],
      "source": [
        "# Visible Testing\n",
        "\n",
        "assert lda.get_topics().shape[0] == 5, 'Did your model complete its training? Did you set num_topics to 5?'"
      ]
    },
    {
      "cell_type": "markdown",
      "metadata": {
        "id": "VG9u1FQeyCq6"
      },
      "source": [
        "#### 2. Create 2 visualizations of the results:\n",
        "1. Create a visualization using pyLDAvis. Run the cell, then comment out your code before submission, leaving the visualization in the cell.\n",
        "\n",
        "2. Create a visualization using the matplotlib library and utilizing the subplots function. Assign this visualization to a variable called `visual_plot`.\n"
      ]
    },
    {
      "cell_type": "code",
      "execution_count": null,
      "metadata": {
        "id": "qssJhE4ByCq6",
        "colab": {
          "base_uri": "https://localhost:8080/",
          "height": 1000
        },
        "outputId": "22860a1b-a9c5-41e5-e30e-3d259e612f23"
      },
      "outputs": [
        {
          "output_type": "stream",
          "name": "stdout",
          "text": [
            "Collecting pyLDAvis\n",
            "  Downloading pyLDAvis-3.4.1-py3-none-any.whl (2.6 MB)\n",
            "\u001b[2K     \u001b[90m━━━━━━━━━━━━━━━━━━━━━━━━━━━━━━━━━━━━━━━━\u001b[0m \u001b[32m2.6/2.6 MB\u001b[0m \u001b[31m9.4 MB/s\u001b[0m eta \u001b[36m0:00:00\u001b[0m\n",
            "\u001b[?25hRequirement already satisfied: numpy>=1.24.2 in /usr/local/lib/python3.10/dist-packages (from pyLDAvis) (1.25.2)\n",
            "Requirement already satisfied: scipy in /usr/local/lib/python3.10/dist-packages (from pyLDAvis) (1.11.4)\n",
            "Requirement already satisfied: pandas>=2.0.0 in /usr/local/lib/python3.10/dist-packages (from pyLDAvis) (2.0.3)\n",
            "Requirement already satisfied: joblib>=1.2.0 in /usr/local/lib/python3.10/dist-packages (from pyLDAvis) (1.4.2)\n",
            "Requirement already satisfied: jinja2 in /usr/local/lib/python3.10/dist-packages (from pyLDAvis) (3.1.4)\n",
            "Requirement already satisfied: numexpr in /usr/local/lib/python3.10/dist-packages (from pyLDAvis) (2.10.0)\n",
            "Collecting funcy (from pyLDAvis)\n",
            "  Downloading funcy-2.0-py2.py3-none-any.whl (30 kB)\n",
            "Requirement already satisfied: scikit-learn>=1.0.0 in /usr/local/lib/python3.10/dist-packages (from pyLDAvis) (1.2.2)\n",
            "Requirement already satisfied: gensim in /usr/local/lib/python3.10/dist-packages (from pyLDAvis) (4.3.2)\n",
            "Requirement already satisfied: setuptools in /usr/local/lib/python3.10/dist-packages (from pyLDAvis) (67.7.2)\n",
            "Requirement already satisfied: python-dateutil>=2.8.2 in /usr/local/lib/python3.10/dist-packages (from pandas>=2.0.0->pyLDAvis) (2.8.2)\n",
            "Requirement already satisfied: pytz>=2020.1 in /usr/local/lib/python3.10/dist-packages (from pandas>=2.0.0->pyLDAvis) (2023.4)\n",
            "Requirement already satisfied: tzdata>=2022.1 in /usr/local/lib/python3.10/dist-packages (from pandas>=2.0.0->pyLDAvis) (2024.1)\n",
            "Requirement already satisfied: threadpoolctl>=2.0.0 in /usr/local/lib/python3.10/dist-packages (from scikit-learn>=1.0.0->pyLDAvis) (3.5.0)\n",
            "Requirement already satisfied: smart-open>=1.8.1 in /usr/local/lib/python3.10/dist-packages (from gensim->pyLDAvis) (6.4.0)\n",
            "Requirement already satisfied: MarkupSafe>=2.0 in /usr/local/lib/python3.10/dist-packages (from jinja2->pyLDAvis) (2.1.5)\n",
            "Requirement already satisfied: six>=1.5 in /usr/local/lib/python3.10/dist-packages (from python-dateutil>=2.8.2->pandas>=2.0.0->pyLDAvis) (1.16.0)\n",
            "Installing collected packages: funcy, pyLDAvis\n",
            "Successfully installed funcy-2.0 pyLDAvis-3.4.1\n"
          ]
        },
        {
          "output_type": "execute_result",
          "data": {
            "text/plain": [
              "PreparedData(topic_coordinates=              x         y  topics  cluster       Freq\n",
              "topic                                                \n",
              "3      0.122376 -0.031109       1        1  35.106021\n",
              "0     -0.074153  0.062857       2        1  21.812614\n",
              "1      0.033301  0.037212       3        1  19.247995\n",
              "2     -0.008020  0.032989       4        1  18.909791\n",
              "4     -0.073503 -0.101949       5        1   4.923578, topic_info=          Term          Freq         Total Category  logprob  loglift\n",
              "0               13873.000000  13873.000000  Default  30.0000  30.0000\n",
              "55        \\n\\n   8355.000000   8355.000000  Default  29.0000  29.0000\n",
              "131      place   5296.000000   5296.000000  Default  28.0000  28.0000\n",
              "1110    coffee    610.000000    610.000000  Default  27.0000  27.0000\n",
              "371      order   3488.000000   3488.000000  Default  26.0000  26.0000\n",
              "...        ...           ...           ...      ...      ...      ...\n",
              "44    friendly     83.795757   1440.152265   Topic5  -5.7240   0.1670\n",
              "428        day     83.627304   1560.471564   Topic5  -5.7261   0.0848\n",
              "353       find     83.342373   1603.172300   Topic5  -5.7295   0.0544\n",
              "0                  84.456727  13873.257966   Topic5  -5.7162  -2.0903\n",
              "50     service     82.316245   3844.450787   Topic5  -5.7419  -0.8327\n",
              "\n",
              "[483 rows x 6 columns], token_table=       Topic      Freq  Term\n",
              "term                        \n",
              "321        1  0.374764    \\n\n",
              "321        2  0.343966    \\n\n",
              "321        3  0.165274    \\n\n",
              "321        4  0.091175    \\n\n",
              "321        5  0.024395    \\n\n",
              "...      ...       ...   ...\n",
              "7668       4  0.923873  yoga\n",
              "9054       1  0.971510  yuck\n",
              "11653      1  0.988858   yuk\n",
              "3506       1  0.970028     à\n",
              "3506       2  0.017018     à\n",
              "\n",
              "[1206 rows x 3 columns], R=30, lambda_step=0.01, plot_opts={'xlab': 'PC1', 'ylab': 'PC2'}, topic_order=[4, 1, 2, 3, 5])"
            ],
            "text/html": [
              "\n",
              "<link rel=\"stylesheet\" type=\"text/css\" href=\"https://cdn.jsdelivr.net/gh/bmabey/pyLDAvis@3.4.0/pyLDAvis/js/ldavis.v1.0.0.css\">\n",
              "\n",
              "\n",
              "<div id=\"ldavis_el23021322144199334403345147273\" style=\"background-color:white;\"></div>\n",
              "<script type=\"text/javascript\">\n",
              "\n",
              "var ldavis_el23021322144199334403345147273_data = {\"mdsDat\": {\"x\": [0.12237550315706087, -0.07415342442393234, 0.03330106498186523, -0.008020259379739788, -0.07350288433525407], \"y\": [-0.031109479853033695, 0.06285737851197061, 0.037211532879494115, 0.032989320811771194, -0.10194875235020218], \"topics\": [1, 2, 3, 4, 5], \"cluster\": [1, 1, 1, 1, 1], \"Freq\": [35.10602097172864, 21.812614415889065, 19.24799535272269, 18.90979112375419, 4.9235781359054185]}, \"tinfo\": {\"Term\": [\" \", \"\\n\\n\", \"place\", \"coffee\", \"order\", \"come\", \"recommend\", \"staff\", \"room\", \"amazing\", \"food\", \"time\", \"work\", \"hotel\", \"definitely\", \"wait\", \"minute\", \"delicious\", \"know\", \"store\", \"tell\", \"stay\", \"go\", \"look\", \"love\", \"shop\", \"drink\", \"say\", \"day\", \"nail\", \"yuk\", \"cajun\", \"thai\", \"grub\", \"hibachi\", \"une\", \"dumpling\", \"vous\", \"je\", \"\\u00e0\", \"asia\", \"izakaya\", \"braise\", \"yellowtail\", \"tamale\", \"j'ai\", \"mais\", \"nigiri\", \"tartar\", \"michael\", \"yuck\", \"que\", \"des\", \"les\", \"ranchero\", \"vietnamese\", \"avec\", \"asada\", \"eclectic\", \"chive\", \"curry\", \"et\", \"ambience\", \"de\", \"carne\", \"tacos\", \"sushi\", \"delicious\", \"raman\", \"beef\", \"margarita\", \"la\", \"tuna\", \"spicy\", \"flavor\", \"dessert\", \"rice\", \"pork\", \"tasty\", \"cream\", \"roll\", \"taco\", \"chicken\", \"pho\", \"fresh\", \"sauce\", \"salad\", \"shrimp\", \"dish\", \"crispy\", \"food\", \"cheese\", \"taste\", \"portion\", \"good\", \"fry\", \"pizza\", \"favorite\", \"restaurant\", \"soup\", \"menu\", \"love\", \"great\", \"place\", \"try\", \"\\n\\n\", \"eat\", \"order\", \"service\", \" \", \"like\", \"\\n\", \"little\", \"definitely\", \"nice\", \"price\", \"come\", \"time\", \"amazing\", \"go\", \"removal\", \"id\", \"ipad\", \"tint\", \"heartbeat\", \"iphone\", \"blind\", \"disgusted\", \"secure\", \"arrogant\", \"xs\", \"dont\", \"carolina\", \"structure\", \"ikea\", \"nordstrom\", \"shady\", \"salesperson\", \"thread\", \"macy\", \"2006\", \"escrow\", \"scheduling\", \"walmart\", \"alex\", \"hobby\", \"ghetto\", \"substitution\", \"acura\", \"weed\", \"notify\", \"theater\", \"passenger\", \"apartment\", \"dryer\", \"carpet\", \"shoe\", \"reschedule\", \"pant\", \"store\", \"contact\", \"suite\", \"cleaning\", \"seal\", \"room\", \"email\", \"elevator\", \"desk\", \"company\", \"rent\", \"call\", \"arm\", \"purchase\", \"hotel\", \"wear\", \"office\", \"fix\", \"casino\", \"tell\", \"car\", \"rude\", \"stay\", \"phone\", \"appointment\", \"say\", \"job\", \"pool\", \"work\", \"manager\", \"\\n\", \"hair\", \"buy\", \"need\", \"money\", \"guy\", \"day\", \"customer\", \"issue\", \"know\", \"thank\", \"take\", \"want\", \"service\", \"\\n\\n\", \" \", \"go\", \"find\", \"time\", \"ask\", \"like\", \"leave\", \"year\", \"great\", \"come\", \"good\", \"get\", \"$\", \"look\", \"place\", \"price\", \"enchilada\", \"baklava\", \"airline\", \"hakka\", \"legal\", \"lawyer\", \"nancy\", \"menus\", \"2012\", \"appliance\", \"johns\", \"cha\", \"certificate\", \"drama\", \"coca\", \"harbor\", \"cola\", \"dunkin\", \"evaluate\", \"2.00\", \"luxurious\", \"3/5\", \"tiffany\", \"lentil\", \"jimmy\", \"mayonnaise\", \"peter\", \"600\", \"burro\", \"hush\", \"hollandaise\", \"terminal\", \"mississauga\", \"puppy\", \"poach\", \"possibility\", \"coney\", \"cuz\", \"minute\", \"min\", \"6.99\", \"wait\", \"x\", \"fly\", \"order\", \"medical\", \"15\", \"table\", \"therapist\", \"\\n\\n\", \"come\", \"$\", \"2\", \"waitress\", \"location\", \"get\", \"10\", \"ask\", \"bring\", \"hour\", \"sit\", \"30\", \"seat\", \"take\", \"20\", \"time\", \"check\", \"food\", \"line\", \"long\", \"cold\", \"go\", \"restaurant\", \"know\", \"eat\", \"people\", \"say\", \" \", \"good\", \"like\", \"service\", \"place\", \"\\n\", \"drink\", \"bad\", \"want\", \"great\", \"try\", \"keg\", \"lash\", \"cirque\", \"robert\", \"extension\", \"carl\", \"brake\", \"perform\", \"disgust\", \"gel\", \"urban\", \"humor\", \"jennifer\", \"msg\", \"verify\", \"yoga\", \"rv\", \"singing\", \"monitor\", \"nail\", \"pinball\", \"baba\", \"female\", \"collection\", \"queue\", \"hahaha\", \"fe\", \"howard\", \"tater\", \"talented\", \"pedi\", \"tan\", \"manicure\", \"instructor\", \"pedicure\", \"session\", \"class\", \"studio\", \"spray\", \"gym\", \"workout\", \" \", \"salon\", \"polish\", \"band\", \"bagel\", \" \\n\\n\", \"color\", \"music\", \"time\", \"  \", \"place\", \"look\", \"go\", \"game\", \"club\", \"feel\", \"great\", \"get\", \"new\", \"like\", \"shop\", \"owner\", \"month\", \"love\", \"people\", \"staff\", \"want\", \"nice\", \"customer\", \"service\", \"good\", \"day\", \"think\", \"know\", \"\\n\\n\", \"come\", \"try\", \"find\", \"food\", \"friendly\", \"work\", \"$\", \"brewery\", \"associate\", \"concoction\", \"specially\", \"medicine\", \"baker\", \"rick\", \"surgeon\", \"thrive\", \"friggin\", \"und\", \"wth\", \"france\", \"immaculate\", \"consult\", \"hospitable\", \"drywall\", \"fog\", \"worse\", \"angle\", \"firmly\", \"sammy\", \"camper\", \"reflexology\", \"accommodation\", \"chai\", \"daytime\", \"mikey\", \"debbie\", \"album\", \"penn\", \"dedicated\", \"sore\", \"bouchon\", \"dr.\", \"latte\", \"dental\", \"jim\", \"coffee\", \"cupcake\", \"dr\", \"bust\", \"dent\", \"donut\", \"physician\", \"boba\", \"cox\", \"espresso\", \"trail\", \"instal\", \"procedure\", \"pastry\", \"tower\", \"dim\", \"study\", \"skin\", \"barista\", \"recommend\", \"croissant\", \"facial\", \"staff\", \"patient\", \"amazing\", \"tea\", \"hotel\", \"bike\", \"shop\", \"place\", \"highly\", \"\\n\\n\", \"come\", \"definitely\", \"room\", \"stay\", \"drink\", \"great\", \"work\", \"good\", \"year\", \"little\", \"know\", \"like\", \"love\", \"look\", \"try\", \"go\", \"time\", \"friendly\", \"day\", \"find\", \" \", \"service\"], \"Freq\": [13873.0, 8355.0, 5296.0, 610.0, 3488.0, 3853.0, 1413.0, 1611.0, 1184.0, 1391.0, 5072.0, 4230.0, 1495.0, 517.0, 1433.0, 1632.0, 1033.0, 1320.0, 1650.0, 851.0, 1559.0, 660.0, 3033.0, 1939.0, 2259.0, 526.0, 1410.0, 1540.0, 1560.0, 354.0, 59.83363440561033, 35.95507036952221, 240.50636026453518, 26.023593463462372, 36.029449837255555, 31.880476141654142, 64.7474491015973, 26.571630985254433, 22.265750789387738, 56.68255773085669, 24.063972373616814, 23.391025044288593, 21.579261893279764, 33.249152573296904, 44.39476835312911, 19.268636738170454, 24.54780090957537, 39.626630305762454, 17.5811472405041, 44.875993714186315, 18.68649842369067, 30.709587767853115, 34.54655844138298, 47.17393171881785, 18.925251883699243, 35.70951751249371, 17.622495932226965, 54.78205905502821, 20.372892618216014, 16.1191105229056, 164.89412684968676, 69.30644413802493, 82.41238104348905, 148.83973503448954, 61.93836253320822, 99.45709192560346, 515.7416076828687, 1122.870177630001, 155.4798645969552, 433.01622280568955, 109.09103232859871, 183.97521787870707, 128.26094006529604, 345.31422762692785, 649.4940756274725, 467.79911119915914, 465.9536145746205, 335.97520724343065, 462.0763851890427, 507.15515504876515, 503.2095297713009, 400.51548301652963, 1142.717251542876, 109.60219153928838, 758.8669003082754, 737.1653863478879, 620.3765049861723, 311.644135283924, 701.2138906858222, 184.66058219261075, 3245.5460516274675, 671.7206111041593, 895.5099677335165, 418.4525824839965, 3799.8853008917513, 692.0476487166361, 642.8711302134353, 485.7868048880215, 1100.5449237987734, 415.31399466061004, 853.7856628926803, 1286.7756942453748, 2142.0857422901004, 2478.4620194661843, 1401.918346963957, 3230.6464793037817, 929.8378062485259, 1559.1048828376445, 1660.7127295783653, 3489.596903355221, 1459.881778539063, 1229.0196649078073, 786.6953404094735, 762.780286675305, 839.2185303772545, 837.0413605235676, 1121.3756890633258, 1046.6292002862199, 736.8875440074972, 688.7795941987696, 25.29265548518197, 22.377007847600964, 24.603179128739537, 29.708398811273508, 18.387275992286057, 25.59247318650959, 22.868911174143836, 17.683322016613218, 13.649733096463784, 13.252074043470616, 13.53713297463464, 12.934074145910527, 15.647499840220178, 15.09559559687596, 21.18278452845581, 15.791234120242372, 18.476357838553636, 14.23944304426281, 14.5865652170146, 12.232248648184859, 11.06518781684415, 10.70796322953114, 18.164047112818153, 11.738990008761096, 22.044202872664755, 15.17175607701981, 10.030497806337596, 10.09390809166116, 10.400229475605132, 13.556335583371697, 21.739982678489145, 68.21250864539583, 20.511225755602837, 82.35449981472702, 28.646273431174407, 64.5883738868015, 61.772002297559844, 28.342339349419046, 27.694524599788704, 617.2024803377774, 108.47898498914294, 67.13367628454901, 77.16189346066972, 24.91155870289738, 807.9651746443275, 110.33323162373507, 55.017738123596935, 126.87762113295899, 291.59474437055326, 85.76327957381184, 535.75534389123, 41.91108361191865, 208.91930249644176, 334.2590611014174, 89.82406488526061, 226.93550721795506, 248.0719713032529, 137.70201144466873, 840.9845986890438, 404.0780595637599, 223.16991054041037, 382.28358321910196, 243.2811858629145, 245.3302138640225, 757.5692734038264, 311.27602414817454, 173.47150176560575, 698.500639866313, 265.87317825232475, 1128.152717538562, 233.3410383897019, 268.3334143006623, 576.5200329192267, 268.61464461764785, 331.64143345302057, 567.5142062271999, 452.7595884127612, 211.30424301721226, 567.247476683051, 305.8795668292624, 502.3218010602112, 561.4449977247123, 881.384228114751, 1374.5086758519285, 1724.4022691202297, 719.5671403688003, 507.58431145923436, 832.005286183846, 469.8745224722, 749.879047850291, 389.2766338421124, 378.2249015781651, 762.7736219439171, 687.6593540373474, 833.9690824526422, 580.2228634778506, 473.2356322636475, 433.7392316335731, 479.3331013964081, 413.93739433579884, 62.71774288464703, 22.494759301969715, 22.38788452629065, 12.165550038559562, 18.218914537506077, 12.613755554432759, 11.486613625626145, 22.249625783670755, 11.373756121629297, 13.829052791634078, 11.834818775319222, 16.266691693305884, 11.604538096989586, 15.38884689394365, 10.131982812433527, 9.589783008778028, 10.443837725039305, 18.965237092337176, 9.678822701453884, 10.471452843125238, 10.339355602873356, 21.8754626418839, 9.660422838389943, 8.465586108815247, 15.263642305440737, 8.500852026561134, 8.447037388991111, 11.911234830978653, 9.95236305148981, 11.230117374632396, 20.697181119050743, 19.99535214171754, 14.806738155066222, 30.58110946411151, 19.58002864635713, 13.84043595564889, 13.585934677117738, 14.477520998577852, 591.7494965702922, 144.2350088030356, 14.350576829112674, 820.437191577616, 30.455281720347784, 62.18674455219611, 1513.8837587058342, 35.977949248813765, 174.1067428358241, 504.5892051359211, 29.280822313739602, 2726.838410803146, 1370.9866861384596, 791.603391952258, 418.76659308633043, 218.21415671017576, 378.365981066722, 819.2745443927431, 234.0155528180962, 489.67181970787084, 282.6915499508724, 363.5494913344831, 286.29101148771593, 137.65702273255647, 237.22737967635538, 457.80517158768663, 155.72951767447202, 940.4208306111761, 324.17525543269016, 1038.099819397474, 220.28855446999492, 291.7509373511403, 168.14972879367295, 667.6386109736776, 455.30176280746923, 438.81571900297797, 413.2003543085278, 387.83719382848574, 404.0211109474639, 1533.6368056076965, 924.9109602524351, 678.088705790475, 620.664601174316, 691.2089289589068, 542.2621775567803, 358.5012273819944, 336.95774304356246, 358.50365579031757, 392.24286357853833, 362.7884188259728, 25.591561853002847, 37.17362814611924, 26.52902826342741, 37.586469965874684, 23.151461215002573, 14.801401779753444, 36.472929131593986, 29.28008647334858, 13.490382255821643, 91.028079924672, 18.96759609058844, 12.241394814674024, 23.917436860071003, 15.831198011911832, 11.2526608219401, 30.08585550023356, 12.081292225566092, 10.633497737056938, 9.41339580351004, 325.9308601775326, 9.085328726206047, 10.028309290709748, 23.84412843255661, 32.54519976175182, 9.017115801447046, 8.514064657587278, 13.717195212882821, 8.605868297691604, 16.295999909145696, 21.684134204887304, 41.35222428555136, 37.30208815058688, 57.63693207885533, 41.98790330852985, 118.91607332476143, 52.44655031661015, 169.3762091344649, 50.58434908396246, 35.91095568139248, 95.09294914526237, 38.30784347385318, 7041.165260714221, 163.9602373931693, 67.16975462428086, 50.81431482958838, 57.04315833289843, 318.33007908147425, 119.18674000798448, 155.94759515374395, 1306.2106654293252, 206.1672874648287, 1387.3426768333054, 653.1243727474683, 858.6933673260236, 132.1960259409068, 100.12943353391042, 386.4466452166185, 928.525417477168, 667.3111241308368, 359.5519336243278, 784.203069919857, 212.58515490828265, 214.9427468258081, 180.18463932353083, 500.751899319883, 361.0663961855366, 381.741371374546, 404.25292977616004, 398.7421019678141, 301.1324332573572, 599.3729837489012, 781.2720059781012, 346.41224640648454, 329.99856819819496, 347.20860151353503, 739.5840606080823, 486.8759822070182, 402.29900949391526, 329.2708948480366, 514.2813337152802, 312.41431794892685, 311.7804224952865, 338.53341201206644, 34.89305925199413, 28.57381320354115, 15.644625574783591, 10.378984895253303, 10.182068786932179, 13.148057799741698, 8.232979562950067, 8.725307537550345, 7.760632361177122, 8.60750967511937, 7.484474816340464, 7.2202876672418155, 7.6101740508225415, 7.465908869180415, 9.523873221266491, 6.658559320569509, 6.673130158417883, 11.127384369873942, 7.189260055061926, 10.073916377163798, 6.761263718256543, 9.949810408103346, 8.361687635130902, 7.295773656207784, 9.899664357473808, 27.379655543764397, 5.669150453058712, 8.155651687482155, 5.587007317358012, 5.621929993129568, 9.905888843799998, 9.745031004833509, 12.149933008832566, 13.211164250771416, 133.3650899489633, 46.70237540791066, 41.29439654676318, 11.320120209640391, 280.6134677211305, 40.58916381388672, 53.73115764842016, 13.695960425196738, 13.335488229908304, 86.50474384237923, 16.055543211251734, 34.393159160286956, 18.0657409583028, 26.175484352668608, 22.4964314162575, 29.83271686957999, 31.441523721859227, 38.84350038951493, 29.26063752393608, 29.431664935680427, 19.79208809261448, 49.057878717740834, 20.477708877929906, 196.6746905326455, 26.80659365955682, 27.583035053563968, 188.06386590978855, 51.47241796169413, 161.46347095882797, 74.99679227308235, 89.01254660245608, 29.652843624323268, 81.9288258226847, 259.76267342109264, 83.84609005516626, 284.29426623137283, 186.19078306183843, 116.9472946245388, 100.37857659843252, 76.43988757575498, 99.3817568815426, 141.28199745784264, 96.96490911993061, 156.22894748465967, 79.12526402274807, 86.8990673283033, 90.00593788691108, 111.60522349458127, 97.38342873789968, 93.18860427757292, 99.4449379935574, 98.5205633237111, 105.37672936671373, 83.79575660546418, 83.62730350448541, 83.34237329390176, 84.45672731994532, 82.3162446607085], \"Total\": [13873.0, 8355.0, 5296.0, 610.0, 3488.0, 3853.0, 1413.0, 1611.0, 1184.0, 1391.0, 5072.0, 4230.0, 1495.0, 517.0, 1433.0, 1632.0, 1033.0, 1320.0, 1650.0, 851.0, 1559.0, 660.0, 3033.0, 1939.0, 2259.0, 526.0, 1410.0, 1540.0, 1560.0, 354.0, 60.676070033711106, 36.87412120985226, 247.2816076772749, 26.81833652754142, 37.17435270299922, 32.9042727873608, 66.8551561545767, 27.483347334342184, 23.035472858267404, 58.76121401798048, 24.95155167081778, 24.273647616407438, 22.451482786114923, 34.595197732505525, 46.22320313404998, 20.116280551803094, 25.635054697129156, 41.412527250773394, 18.38068966231011, 46.948225118679, 19.557189746277185, 32.158466488356304, 36.177213998244326, 49.412489270561935, 19.837094538372064, 37.50232626379459, 18.507616026120132, 57.64795502491293, 21.448053400425664, 17.001219832004242, 175.04662084057227, 73.28439990492221, 87.69954336536877, 159.93653782240665, 65.96970681046862, 107.63755633684977, 588.2289522963339, 1320.3777726721303, 172.12291821791766, 502.29251937077277, 119.50341336112935, 206.45528452675688, 142.25793841746824, 399.9045617406742, 786.9629230091608, 557.1545267443021, 555.6373859137669, 394.32249109866706, 552.0575116645448, 610.5167493387274, 605.487645645185, 480.28383041486643, 1479.580707802849, 121.81318112270547, 981.2136672342591, 960.5286054416695, 797.9397625429525, 378.951615882767, 925.3038881665262, 214.94024227136362, 5072.108657655406, 901.9180347977862, 1242.9527976521094, 534.2095375319789, 6496.266297059589, 953.2346535632761, 893.7151709988779, 652.9330370435307, 1731.5255912334826, 547.0993768993629, 1320.560612059851, 2259.816596149576, 4366.909642747566, 5296.109400075897, 2598.631930060889, 8355.871892798312, 1561.6439949398562, 3488.5188685590897, 3844.450787277042, 13873.257966117313, 3783.6578255942673, 3279.3946099672216, 1450.470112238434, 1433.7344573632072, 1786.737090219103, 1815.400733653374, 3853.0884945079893, 4230.642711877281, 1391.0223566219015, 3033.1992761909823, 26.22393698627085, 23.237402548147887, 25.728572022366738, 31.084559433112407, 19.25970307776325, 26.94682944177829, 24.152691082821395, 18.681788391820046, 14.445882656196119, 14.031480223633997, 14.349053802915167, 13.711999671725449, 16.628367677511505, 16.048087843723536, 22.519804254575718, 16.825574185779036, 19.69942559786141, 15.183946730984568, 15.592536097336561, 13.07608333777524, 11.83424206048389, 11.48085303138286, 19.47746763374204, 12.60443035554024, 23.687312017352898, 16.31237473283788, 10.81120268696043, 10.883201602246034, 11.232002864685503, 14.664426421760973, 23.528894563250052, 75.4071473075034, 22.342440509159996, 92.5232375718435, 31.650139441994316, 73.4869570302811, 70.4928114848678, 31.509429892837105, 30.79238226372867, 851.2111321277075, 131.88521178444915, 79.4801945144461, 92.39073426136908, 27.611197742927654, 1184.7303876560518, 138.28841622136875, 65.21184051048184, 162.76925423900917, 415.78762108456687, 108.73259508979335, 834.5710224444255, 49.41875149170546, 301.8694834346324, 517.7227628667246, 116.50817070618038, 341.1614650441007, 378.64994258760623, 193.5128255670646, 1559.2263842965688, 696.6195306436929, 348.2089846180047, 660.3443771908537, 392.17230550573703, 396.49725635756096, 1540.2149311444614, 528.0010429106718, 266.8738299732754, 1495.5682073870707, 483.3253153287057, 3279.3946099672216, 409.5535091608816, 493.9626833387229, 1389.724678435401, 497.71193689126494, 670.8202811306543, 1560.4715643813058, 1131.2080004863762, 367.53657876371966, 1650.5580439586631, 644.4755040874377, 1440.789829757313, 1782.3701490621422, 3844.450787277042, 8355.871892798312, 13873.257966117313, 3033.1992761909823, 1603.172300380148, 4230.642711877281, 1455.1297489245353, 3783.6578255942673, 1026.6017416175137, 972.415360877922, 4366.909642747566, 3853.0884945079893, 6496.266297059589, 2750.8602066025, 2181.9295811892675, 1939.8823583901305, 5296.109400075897, 1815.400733653374, 63.723392782001305, 23.535348344240507, 23.59980208803363, 12.973305802601798, 19.467364637335756, 13.515168061916947, 12.337150062228597, 23.948393238733164, 12.264113304522555, 14.924863253848986, 12.77548789679549, 17.566737464294476, 12.561654317481176, 16.660213181102723, 10.99659455326458, 10.418541845626748, 11.35473625871888, 20.645228903907665, 10.541139056231534, 11.414314542018522, 11.282634258496026, 23.91722395380764, 10.58274591012634, 9.281848320044341, 16.73953259695073, 9.370257966920828, 9.318000577857402, 13.172346436525308, 11.011167445166507, 12.42976802141248, 23.0038087636163, 22.336315116976277, 16.529830643132247, 35.67575578135071, 22.387077614717477, 15.52574825247748, 15.290537070752332, 16.424309568757163, 1033.9515682846195, 218.4400266675503, 16.32793439207912, 1632.3181876583892, 38.52573876337934, 87.74101812806236, 3488.5188685590897, 47.83165025163933, 306.35181399294333, 1095.0928124286272, 37.747526671127055, 8355.871892798312, 3853.0884945079893, 2181.9295811892675, 1060.5268993858788, 474.5435539622964, 965.0733170928493, 2750.8602066025, 555.6282176747134, 1455.1297489245353, 714.2551642904641, 1001.4847997285731, 749.8382245627466, 284.7050347433442, 588.4788205465973, 1440.789829757313, 340.4668394883918, 4230.642711877281, 980.7791343324509, 5072.108657655406, 593.5640206761841, 889.8819897638109, 405.0417371145676, 3033.1992761909823, 1731.5255912334826, 1650.5580439586631, 1561.6439949398562, 1442.4856768975842, 1540.2149311444614, 13873.257966117313, 6496.266297059589, 3783.6578255942673, 3844.450787277042, 5296.109400075897, 3279.3946099672216, 1410.9441783254586, 1217.946860088486, 1782.3701490621422, 4366.909642747566, 2598.631930060889, 26.499830174575834, 38.61107386725607, 27.59865071300004, 39.26129008342621, 24.210183347022458, 15.665659250214087, 38.6263588960684, 31.052742953956333, 14.323989319980035, 97.01726718863357, 20.24365065186126, 13.069909675675179, 25.555447598374638, 16.93138574560488, 12.133670442336385, 32.47198078867017, 13.047243752319078, 11.547644756768035, 10.232319020837403, 354.3785351740686, 9.90592292818444, 10.934224655593232, 26.04362980344656, 35.549380960331, 9.861630873044618, 9.329416293879575, 15.047490287007882, 9.448386835275432, 17.94179803190835, 23.889924099610806, 45.64038392179758, 41.25334850268954, 64.13617623527266, 46.72730333365799, 137.7695521817071, 60.568516944011385, 206.94271371641912, 58.979742112327486, 41.143596828298236, 119.81393263741873, 45.2059612181213, 13873.257966117313, 226.1669745653949, 86.41247759463398, 63.134637907672726, 72.38113222162669, 577.7106132771554, 180.28651131341098, 267.40931931499637, 4230.642711877281, 400.1266744208081, 5296.109400075897, 1939.8823583901305, 3033.1992761909823, 247.06226035331036, 170.55805198252696, 1142.5020612659519, 4366.909642747566, 2750.8602066025, 1131.414419348217, 3783.6578255942673, 526.7258695161574, 552.7250845725064, 447.0083866810666, 2259.816596149576, 1442.4856768975842, 1611.2710811515844, 1782.3701490621422, 1786.737090219103, 1131.2080004863762, 3844.450787277042, 6496.266297059589, 1560.4715643813058, 1439.468269684308, 1650.5580439586631, 8355.871892798312, 3853.0884945079893, 2598.631930060889, 1603.172300380148, 5072.108657655406, 1440.1522647292245, 1495.5682073870707, 2181.9295811892675, 35.80319923948521, 29.598118897725026, 16.51448860958604, 11.203451169582642, 11.022232179468412, 14.290906411652035, 9.03911966693982, 9.627544012568388, 8.591863484786357, 9.577406455378885, 8.334673513066875, 8.042664575493466, 8.505547281009225, 8.349394458246572, 10.65381189935477, 7.484563435175879, 7.504191827848694, 12.59223156043395, 8.14409885649517, 11.41333119977607, 7.685193860604181, 11.313994154464385, 9.515049587663093, 8.320572632578925, 11.293059454253571, 31.284104438855532, 6.481821048968988, 9.33870238031685, 6.39819761550862, 6.443308660186047, 11.410917959386493, 11.249730589785305, 14.161241726824208, 15.54034851069615, 181.3774509238061, 60.43200436114065, 53.211655594493635, 13.446958050024776, 610.1559159325463, 61.78689126546271, 88.42171857782668, 17.23830757014217, 16.70549522733493, 165.58590084749227, 21.668689740877053, 60.49463505059028, 25.818499021495064, 43.48295209587426, 35.53313079914251, 52.8956295850418, 57.25101551660832, 80.25222443206623, 54.2562041303822, 55.68245560989045, 31.08364634477746, 129.4009085235253, 33.58358424632503, 1413.5202423576975, 53.37356340379276, 57.93506594331241, 1611.2710811515844, 171.61759940264147, 1391.0223566219015, 368.02276488895467, 517.7227628667246, 67.76357076052176, 526.7258695161574, 5296.109400075897, 557.2739976515315, 8355.871892798312, 3853.0884945079893, 1433.7344573632072, 1184.7303876560518, 660.3443771908537, 1410.9441783254586, 4366.909642747566, 1495.5682073870707, 6496.266297059589, 972.415360877922, 1450.470112238434, 1650.5580439586631, 3783.6578255942673, 2259.816596149576, 1939.8823583901305, 2598.631930060889, 3033.1992761909823, 4230.642711877281, 1440.1522647292245, 1560.4715643813058, 1603.172300380148, 13873.257966117313, 3844.450787277042], \"Category\": [\"Default\", \"Default\", \"Default\", \"Default\", \"Default\", \"Default\", \"Default\", \"Default\", \"Default\", \"Default\", \"Default\", \"Default\", \"Default\", \"Default\", \"Default\", \"Default\", \"Default\", \"Default\", \"Default\", \"Default\", \"Default\", \"Default\", \"Default\", \"Default\", \"Default\", \"Default\", \"Default\", \"Default\", \"Default\", \"Default\", \"Topic1\", \"Topic1\", \"Topic1\", \"Topic1\", \"Topic1\", \"Topic1\", \"Topic1\", \"Topic1\", \"Topic1\", \"Topic1\", \"Topic1\", \"Topic1\", \"Topic1\", \"Topic1\", \"Topic1\", \"Topic1\", \"Topic1\", \"Topic1\", \"Topic1\", \"Topic1\", \"Topic1\", \"Topic1\", \"Topic1\", \"Topic1\", \"Topic1\", \"Topic1\", \"Topic1\", \"Topic1\", \"Topic1\", \"Topic1\", \"Topic1\", \"Topic1\", \"Topic1\", \"Topic1\", \"Topic1\", \"Topic1\", \"Topic1\", \"Topic1\", \"Topic1\", \"Topic1\", \"Topic1\", \"Topic1\", \"Topic1\", \"Topic1\", \"Topic1\", \"Topic1\", \"Topic1\", \"Topic1\", \"Topic1\", \"Topic1\", \"Topic1\", \"Topic1\", \"Topic1\", \"Topic1\", \"Topic1\", \"Topic1\", \"Topic1\", \"Topic1\", \"Topic1\", \"Topic1\", \"Topic1\", \"Topic1\", \"Topic1\", \"Topic1\", \"Topic1\", \"Topic1\", \"Topic1\", \"Topic1\", \"Topic1\", \"Topic1\", \"Topic1\", \"Topic1\", \"Topic1\", \"Topic1\", \"Topic1\", \"Topic1\", \"Topic1\", \"Topic1\", \"Topic1\", \"Topic1\", \"Topic1\", \"Topic1\", \"Topic1\", \"Topic1\", \"Topic1\", \"Topic1\", \"Topic1\", \"Topic1\", \"Topic1\", \"Topic1\", \"Topic2\", \"Topic2\", \"Topic2\", \"Topic2\", \"Topic2\", \"Topic2\", \"Topic2\", \"Topic2\", \"Topic2\", \"Topic2\", \"Topic2\", \"Topic2\", \"Topic2\", \"Topic2\", \"Topic2\", \"Topic2\", \"Topic2\", \"Topic2\", \"Topic2\", \"Topic2\", \"Topic2\", \"Topic2\", \"Topic2\", \"Topic2\", \"Topic2\", \"Topic2\", \"Topic2\", \"Topic2\", \"Topic2\", \"Topic2\", \"Topic2\", \"Topic2\", \"Topic2\", \"Topic2\", \"Topic2\", \"Topic2\", \"Topic2\", \"Topic2\", \"Topic2\", \"Topic2\", \"Topic2\", \"Topic2\", \"Topic2\", \"Topic2\", \"Topic2\", \"Topic2\", \"Topic2\", \"Topic2\", \"Topic2\", \"Topic2\", \"Topic2\", \"Topic2\", \"Topic2\", \"Topic2\", \"Topic2\", \"Topic2\", \"Topic2\", \"Topic2\", \"Topic2\", \"Topic2\", \"Topic2\", \"Topic2\", \"Topic2\", \"Topic2\", \"Topic2\", \"Topic2\", \"Topic2\", \"Topic2\", \"Topic2\", \"Topic2\", \"Topic2\", \"Topic2\", \"Topic2\", \"Topic2\", \"Topic2\", \"Topic2\", \"Topic2\", \"Topic2\", \"Topic2\", \"Topic2\", \"Topic2\", \"Topic2\", \"Topic2\", \"Topic2\", \"Topic2\", \"Topic2\", \"Topic2\", \"Topic2\", \"Topic2\", \"Topic2\", \"Topic2\", \"Topic2\", \"Topic2\", \"Topic2\", \"Topic2\", \"Topic2\", \"Topic2\", \"Topic2\", \"Topic2\", \"Topic2\", \"Topic3\", \"Topic3\", \"Topic3\", \"Topic3\", \"Topic3\", \"Topic3\", \"Topic3\", \"Topic3\", \"Topic3\", \"Topic3\", \"Topic3\", \"Topic3\", \"Topic3\", \"Topic3\", \"Topic3\", \"Topic3\", \"Topic3\", \"Topic3\", \"Topic3\", \"Topic3\", \"Topic3\", \"Topic3\", \"Topic3\", \"Topic3\", \"Topic3\", \"Topic3\", \"Topic3\", \"Topic3\", \"Topic3\", \"Topic3\", \"Topic3\", \"Topic3\", \"Topic3\", \"Topic3\", \"Topic3\", \"Topic3\", \"Topic3\", \"Topic3\", \"Topic3\", \"Topic3\", \"Topic3\", \"Topic3\", \"Topic3\", \"Topic3\", \"Topic3\", \"Topic3\", \"Topic3\", \"Topic3\", \"Topic3\", \"Topic3\", \"Topic3\", \"Topic3\", \"Topic3\", \"Topic3\", \"Topic3\", \"Topic3\", \"Topic3\", \"Topic3\", \"Topic3\", \"Topic3\", \"Topic3\", \"Topic3\", \"Topic3\", \"Topic3\", \"Topic3\", \"Topic3\", \"Topic3\", \"Topic3\", \"Topic3\", \"Topic3\", \"Topic3\", \"Topic3\", \"Topic3\", \"Topic3\", \"Topic3\", \"Topic3\", \"Topic3\", \"Topic3\", \"Topic3\", \"Topic3\", \"Topic3\", \"Topic3\", \"Topic3\", \"Topic3\", \"Topic3\", \"Topic3\", \"Topic3\", \"Topic3\", \"Topic4\", \"Topic4\", \"Topic4\", \"Topic4\", \"Topic4\", \"Topic4\", \"Topic4\", \"Topic4\", \"Topic4\", \"Topic4\", \"Topic4\", \"Topic4\", \"Topic4\", \"Topic4\", \"Topic4\", \"Topic4\", \"Topic4\", \"Topic4\", \"Topic4\", \"Topic4\", \"Topic4\", \"Topic4\", \"Topic4\", \"Topic4\", \"Topic4\", \"Topic4\", \"Topic4\", \"Topic4\", \"Topic4\", \"Topic4\", \"Topic4\", \"Topic4\", \"Topic4\", \"Topic4\", \"Topic4\", \"Topic4\", \"Topic4\", \"Topic4\", \"Topic4\", \"Topic4\", \"Topic4\", \"Topic4\", \"Topic4\", \"Topic4\", \"Topic4\", \"Topic4\", \"Topic4\", \"Topic4\", \"Topic4\", \"Topic4\", \"Topic4\", \"Topic4\", \"Topic4\", \"Topic4\", \"Topic4\", \"Topic4\", \"Topic4\", \"Topic4\", \"Topic4\", \"Topic4\", \"Topic4\", \"Topic4\", \"Topic4\", \"Topic4\", \"Topic4\", \"Topic4\", \"Topic4\", \"Topic4\", \"Topic4\", \"Topic4\", \"Topic4\", \"Topic4\", \"Topic4\", \"Topic4\", \"Topic4\", \"Topic4\", \"Topic4\", \"Topic4\", \"Topic4\", \"Topic4\", \"Topic4\", \"Topic4\", \"Topic4\", \"Topic5\", \"Topic5\", \"Topic5\", \"Topic5\", \"Topic5\", \"Topic5\", \"Topic5\", \"Topic5\", \"Topic5\", \"Topic5\", \"Topic5\", \"Topic5\", \"Topic5\", \"Topic5\", \"Topic5\", \"Topic5\", \"Topic5\", \"Topic5\", \"Topic5\", \"Topic5\", \"Topic5\", \"Topic5\", \"Topic5\", \"Topic5\", \"Topic5\", \"Topic5\", \"Topic5\", \"Topic5\", \"Topic5\", \"Topic5\", \"Topic5\", \"Topic5\", \"Topic5\", \"Topic5\", \"Topic5\", \"Topic5\", \"Topic5\", \"Topic5\", \"Topic5\", \"Topic5\", \"Topic5\", \"Topic5\", \"Topic5\", \"Topic5\", \"Topic5\", \"Topic5\", \"Topic5\", \"Topic5\", \"Topic5\", \"Topic5\", \"Topic5\", \"Topic5\", \"Topic5\", \"Topic5\", \"Topic5\", \"Topic5\", \"Topic5\", \"Topic5\", \"Topic5\", \"Topic5\", \"Topic5\", \"Topic5\", \"Topic5\", \"Topic5\", \"Topic5\", \"Topic5\", \"Topic5\", \"Topic5\", \"Topic5\", \"Topic5\", \"Topic5\", \"Topic5\", \"Topic5\", \"Topic5\", \"Topic5\", \"Topic5\", \"Topic5\", \"Topic5\", \"Topic5\", \"Topic5\", \"Topic5\", \"Topic5\", \"Topic5\", \"Topic5\", \"Topic5\", \"Topic5\", \"Topic5\", \"Topic5\", \"Topic5\", \"Topic5\", \"Topic5\", \"Topic5\"], \"logprob\": [30.0, 29.0, 28.0, 27.0, 26.0, 25.0, 24.0, 23.0, 22.0, 21.0, 20.0, 19.0, 18.0, 17.0, 16.0, 15.0, 14.0, 13.0, 12.0, 11.0, 10.0, 9.0, 8.0, 7.0, 6.0, 5.0, 4.0, 3.0, 2.0, 1.0, -8.0252, -8.5345, -6.634, -8.8578, -8.5324, -8.6548, -7.9463, -8.8369, -9.0137, -8.0793, -8.936, -8.9644, -9.045, -8.6127, -8.3236, -9.1583, -8.9161, -8.4373, -9.2499, -8.3129, -9.189, -8.6922, -8.5745, -8.2629, -9.1763, -8.5413, -9.2476, -8.1134, -9.1026, -9.3368, -7.0115, -7.8782, -7.705, -7.1139, -7.9906, -7.517, -5.8712, -5.0931, -7.0702, -6.046, -7.4246, -6.902, -7.2627, -6.2723, -5.6406, -5.9687, -5.9727, -6.2997, -5.981, -5.8879, -5.8958, -6.124, -5.0756, -7.4199, -5.4849, -5.514, -5.6864, -6.3749, -5.564, -6.8982, -4.0317, -5.6069, -5.3194, -6.0802, -3.874, -5.5771, -5.6508, -5.931, -5.1132, -6.0877, -5.3671, -4.9569, -4.4472, -4.3014, -4.8712, -4.0363, -5.2818, -4.7649, -4.7018, -3.9592, -4.8307, -5.0028, -5.4489, -5.4798, -5.3843, -5.3869, -5.0945, -5.1634, -5.5143, -5.5818, -8.4104, -8.5328, -8.438, -8.2495, -8.7292, -8.3986, -8.5111, -8.7683, -9.0272, -9.0567, -9.0354, -9.081, -8.8906, -8.9265, -8.5877, -8.8814, -8.7244, -8.9849, -8.9608, -9.1368, -9.2371, -9.2699, -8.7414, -9.178, -8.5478, -8.9214, -9.3353, -9.3289, -9.2991, -9.034, -8.5617, -7.4183, -8.6199, -7.2298, -8.2859, -7.4728, -7.5174, -8.2965, -8.3196, -5.2157, -6.9543, -7.4342, -7.295, -8.4255, -4.9464, -6.9374, -7.6332, -6.7977, -5.9655, -7.1893, -5.3572, -7.9053, -6.2989, -5.829, -7.143, -6.2162, -6.1272, -6.7158, -4.9063, -5.6393, -6.2329, -5.6947, -6.1467, -6.1383, -5.0108, -5.9002, -6.4849, -5.0919, -6.0579, -4.6125, -6.1884, -6.0487, -5.2839, -6.0476, -5.8368, -5.2996, -5.5255, -6.2876, -5.3001, -5.9177, -5.4216, -5.3104, -4.8594, -4.415, -4.1882, -5.0622, -5.4112, -4.917, -5.4884, -5.021, -5.6766, -5.7054, -5.0039, -5.1076, -4.9147, -5.2775, -5.4813, -5.5684, -5.4685, -5.6152, -7.3772, -8.4025, -8.4073, -9.0172, -8.6133, -8.981, -9.0746, -8.4135, -9.0845, -8.889, -9.0448, -8.7267, -9.0644, -8.7822, -9.2001, -9.2551, -9.1698, -8.5732, -9.2459, -9.1671, -9.1798, -8.4304, -9.2478, -9.3798, -8.7903, -9.3756, -9.382, -9.0383, -9.218, -9.0972, -8.4858, -8.5203, -8.8207, -8.0954, -8.5413, -8.8882, -8.9068, -8.8432, -5.1327, -6.5444, -8.852, -4.806, -8.0995, -7.3857, -4.1934, -7.9329, -6.3561, -5.2921, -8.1389, -3.6049, -4.2925, -4.8417, -5.4785, -6.1303, -5.5799, -4.8074, -6.0604, -5.3221, -5.8714, -5.6199, -5.8588, -6.591, -6.0468, -5.3894, -6.4677, -4.6695, -5.7345, -4.5707, -6.1209, -5.8399, -6.3909, -5.0121, -5.3948, -5.4317, -5.4919, -5.5552, -5.5143, -4.1804, -4.6861, -4.9965, -5.085, -4.9774, -5.2201, -5.6339, -5.6958, -5.6339, -5.5439, -5.622, -8.2558, -7.8825, -8.2198, -7.8714, -8.356, -8.8034, -7.9015, -8.1212, -8.8961, -6.9869, -8.5553, -8.9932, -8.3235, -8.7361, -9.0775, -8.094, -9.0064, -9.1341, -9.2559, -5.7114, -9.2914, -9.1927, -8.3265, -8.0154, -9.2989, -9.3564, -8.8794, -9.3456, -8.7072, -8.4215, -7.7759, -7.879, -7.4439, -7.7607, -6.7197, -7.5383, -6.366, -7.5744, -7.917, -6.9432, -7.8524, -2.6385, -6.3984, -7.2908, -7.5699, -7.4543, -5.735, -6.7174, -6.4486, -4.3232, -6.1694, -4.2629, -5.0163, -4.7427, -6.6138, -6.8916, -5.5411, -4.6645, -4.9948, -5.6132, -4.8334, -6.1387, -6.1277, -6.3041, -5.282, -5.609, -5.5533, -5.496, -5.5098, -5.7905, -5.1022, -4.8371, -5.6504, -5.699, -5.6481, -4.892, -5.3101, -5.5009, -5.7012, -5.2553, -5.7537, -5.7558, -5.6734, -6.6001, -6.7999, -7.4023, -7.8126, -7.8318, -7.5762, -8.0443, -7.9862, -8.1034, -7.9998, -8.1396, -8.1755, -8.1229, -8.1421, -7.8986, -8.2565, -8.2543, -7.743, -8.1798, -7.8425, -8.2412, -7.8549, -8.0288, -8.1651, -7.8599, -6.8426, -8.4174, -8.0537, -8.432, -8.4258, -7.8593, -7.8757, -7.6551, -7.5714, -5.2593, -6.3086, -6.4317, -7.7258, -4.5155, -6.4489, -6.1684, -7.5353, -7.562, -5.6922, -7.3764, -6.6146, -7.2584, -6.8876, -7.0391, -6.7568, -6.7043, -6.4929, -6.7762, -6.7704, -7.1671, -6.2594, -7.1331, -4.8709, -6.8638, -6.8352, -4.9156, -6.2114, -5.0681, -5.835, -5.6637, -6.7629, -5.7466, -4.5927, -5.7234, -4.5024, -4.9257, -5.3907, -5.5435, -5.8159, -5.5535, -5.2017, -5.5781, -5.1011, -5.7814, -5.6877, -5.6526, -5.4375, -5.5738, -5.6178, -5.5528, -5.5622, -5.4949, -5.724, -5.7261, -5.7295, -5.7162, -5.7419], \"loglift\": [30.0, 29.0, 28.0, 27.0, 26.0, 25.0, 24.0, 23.0, 22.0, 21.0, 20.0, 19.0, 18.0, 17.0, 16.0, 15.0, 14.0, 13.0, 12.0, 11.0, 10.0, 9.0, 8.0, 7.0, 6.0, 5.0, 4.0, 3.0, 2.0, 1.0, 1.0328, 1.0216, 1.019, 1.0167, 1.0155, 1.0152, 1.0148, 1.0131, 1.0128, 1.0108, 1.0106, 1.0098, 1.0072, 1.0071, 1.0064, 1.0037, 1.0035, 1.0027, 1.0023, 1.0017, 1.0013, 1.0007, 1.0007, 1.0004, 0.9997, 0.9978, 0.9978, 0.9958, 0.9954, 0.9935, 0.987, 0.991, 0.9846, 0.9749, 0.9837, 0.9678, 0.9153, 0.8848, 0.9451, 0.8984, 0.9556, 0.9315, 0.9432, 0.9, 0.8548, 0.872, 0.8708, 0.8867, 0.8689, 0.8613, 0.8618, 0.8652, 0.7884, 0.9412, 0.7898, 0.7821, 0.7951, 0.8513, 0.7695, 0.895, 0.6003, 0.7521, 0.7189, 0.8026, 0.5105, 0.7266, 0.7174, 0.7511, 0.5936, 0.7712, 0.6107, 0.4837, 0.3345, 0.2875, 0.4297, 0.0965, 0.5283, 0.2414, 0.2074, -0.3334, 0.0945, 0.0654, 0.435, 0.4157, 0.2911, 0.2726, -0.1875, -0.35, 0.4114, -0.4357, 1.4865, 1.485, 1.478, 1.4774, 1.4763, 1.4711, 1.4681, 1.4678, 1.466, 1.4655, 1.4644, 1.4643, 1.4619, 1.4615, 1.4615, 1.4592, 1.4586, 1.4585, 1.456, 1.456, 1.4555, 1.453, 1.4529, 1.4515, 1.4508, 1.4502, 1.4477, 1.4474, 1.4457, 1.4441, 1.4436, 1.4224, 1.4372, 1.4063, 1.423, 1.3936, 1.3906, 1.4168, 1.4166, 1.2012, 1.3273, 1.3539, 1.3426, 1.4198, 1.1399, 1.2968, 1.3527, 1.2736, 1.1679, 1.2854, 1.0794, 1.3579, 1.1546, 1.0852, 1.2626, 1.115, 1.0998, 1.1824, 0.9053, 0.9781, 1.0778, 0.9761, 1.0452, 1.0426, 0.8131, 0.9943, 1.0919, 0.7614, 0.925, 0.4556, 0.9601, 0.9125, 0.6428, 0.9059, 0.8182, 0.5112, 0.607, 0.9692, 0.4546, 0.7774, 0.469, 0.3675, 0.0498, -0.2822, -0.5624, 0.084, 0.3726, -0.1036, 0.3923, -0.0959, 0.553, 0.5784, -0.2222, -0.2007, -0.5301, -0.0336, -0.0057, 0.0247, -0.8797, 0.0443, 1.6319, 1.6025, 1.595, 1.5835, 1.5815, 1.5787, 1.5763, 1.5742, 1.5724, 1.5715, 1.5713, 1.5709, 1.5685, 1.5684, 1.5659, 1.5649, 1.5641, 1.5629, 1.5624, 1.5615, 1.5605, 1.5585, 1.5566, 1.5557, 1.5555, 1.5504, 1.5496, 1.5471, 1.5467, 1.5463, 1.5421, 1.537, 1.5377, 1.4937, 1.5138, 1.5329, 1.5296, 1.5216, 1.0897, 1.2327, 1.5187, 0.9598, 1.4127, 1.3035, 0.813, 1.363, 1.0827, 0.8729, 1.3938, 0.5279, 0.6144, 0.6339, 0.7186, 0.8709, 0.7114, 0.4365, 0.7831, 0.5586, 0.7209, 0.6344, 0.6849, 0.9211, 0.7392, 0.5013, 0.8656, 0.144, 0.5407, 0.0614, 0.6566, 0.5326, 0.7686, 0.1341, 0.312, 0.323, 0.3182, 0.3342, 0.3096, -0.5546, -0.3015, -0.0714, -0.1758, -0.3885, -0.1519, 0.2777, 0.3628, 0.044, -0.7622, -0.3212, 1.6306, 1.6276, 1.626, 1.6219, 1.6208, 1.6087, 1.6081, 1.6067, 1.6055, 1.6018, 1.6004, 1.6, 1.5992, 1.5983, 1.5901, 1.5892, 1.5886, 1.583, 1.5821, 1.5818, 1.579, 1.579, 1.5773, 1.5772, 1.576, 1.574, 1.5729, 1.5721, 1.5693, 1.5686, 1.5668, 1.5648, 1.5586, 1.5585, 1.5183, 1.5215, 1.4652, 1.5119, 1.5295, 1.4344, 1.4999, 0.9873, 1.3438, 1.4136, 1.4484, 1.4274, 1.0695, 1.2516, 1.1262, 0.4903, 1.0024, 0.3259, 0.5769, 0.4035, 1.0401, 1.1329, 0.5815, 0.1173, 0.2491, 0.5191, 0.0917, 0.7582, 0.721, 0.7569, 0.1586, 0.2804, 0.2255, 0.1818, 0.1657, 0.342, -0.193, -0.4526, 0.1604, 0.1925, 0.1065, -0.7591, -0.4031, -0.2001, 0.0826, -0.6233, 0.1373, 0.0975, -0.1979, 2.9854, 2.9759, 2.957, 2.9347, 2.9318, 2.9278, 2.9177, 2.9127, 2.9094, 2.9044, 2.9035, 2.9033, 2.8999, 2.8993, 2.899, 2.8942, 2.8938, 2.8875, 2.8864, 2.8863, 2.883, 2.8826, 2.8819, 2.8797, 2.8794, 2.8778, 2.8772, 2.8757, 2.8756, 2.8748, 2.8697, 2.8675, 2.8579, 2.8488, 2.7036, 2.7534, 2.7576, 2.839, 2.2344, 2.5909, 2.513, 2.7811, 2.7858, 2.3618, 2.7113, 2.4464, 2.6541, 2.5036, 2.554, 2.4384, 2.4118, 2.2855, 2.3937, 2.3735, 2.5597, 2.0412, 2.5164, 1.0388, 2.3225, 2.269, 0.8631, 1.8069, 0.8576, 1.4204, 1.2505, 2.1847, 1.1503, -0.0038, 1.1171, -0.3696, -0.0187, 0.5048, 0.5428, 0.8549, 0.3581, -0.4199, 0.2752, -0.7165, 0.5024, 0.1962, 0.1021, -0.5123, -0.1332, -0.0246, -0.252, -0.416, -0.6814, 0.167, 0.0848, 0.0544, -2.0903, -0.8327]}, \"token.table\": {\"Topic\": [1, 2, 3, 4, 5, 1, 2, 3, 4, 5, 1, 2, 3, 4, 5, 1, 2, 3, 4, 5, 1, 2, 3, 4, 5, 1, 2, 3, 4, 5, 1, 2, 3, 4, 5, 1, 2, 3, 4, 5, 1, 2, 3, 4, 5, 3, 1, 2, 3, 4, 5, 2, 3, 1, 3, 1, 2, 3, 4, 5, 3, 4, 3, 4, 5, 2, 2, 3, 5, 1, 2, 4, 1, 2, 3, 4, 5, 1, 2, 3, 4, 4, 5, 1, 2, 3, 4, 5, 3, 1, 2, 3, 4, 5, 1, 2, 3, 4, 2, 1, 2, 3, 4, 1, 1, 2, 3, 4, 5, 5, 1, 4, 1, 2, 3, 4, 5, 1, 2, 3, 4, 5, 5, 3, 1, 2, 3, 4, 5, 2, 3, 4, 5, 1, 2, 3, 4, 5, 1, 2, 3, 4, 5, 1, 2, 1, 2, 4, 5, 1, 5, 1, 2, 4, 5, 1, 2, 3, 4, 5, 3, 1, 5, 1, 2, 3, 4, 5, 1, 1, 2, 3, 4, 5, 5, 1, 2, 3, 4, 5, 4, 1, 2, 3, 4, 2, 1, 2, 3, 4, 5, 1, 2, 3, 4, 5, 3, 3, 1, 4, 5, 1, 2, 3, 4, 5, 1, 2, 3, 4, 5, 1, 2, 3, 4, 5, 1, 4, 1, 2, 3, 4, 5, 1, 2, 3, 4, 5, 1, 2, 3, 4, 5, 3, 1, 2, 3, 4, 5, 3, 1, 2, 3, 4, 5, 1, 3, 4, 1, 2, 3, 4, 5, 1, 2, 3, 4, 5, 1, 2, 3, 4, 5, 5, 3, 4, 5, 1, 2, 3, 4, 5, 2, 5, 1, 2, 3, 4, 5, 1, 2, 3, 4, 5, 1, 2, 3, 4, 5, 1, 2, 3, 4, 5, 1, 2, 3, 4, 5, 1, 2, 3, 4, 5, 2, 3, 4, 1, 2, 3, 4, 5, 5, 1, 2, 3, 4, 5, 5, 1, 5, 1, 2, 3, 4, 5, 1, 2, 3, 4, 5, 3, 4, 5, 1, 2, 3, 4, 5, 1, 2, 1, 2, 3, 4, 5, 1, 2, 3, 4, 5, 1, 2, 3, 4, 5, 4, 2, 1, 2, 3, 4, 5, 2, 1, 2, 3, 4, 5, 2, 3, 5, 1, 2, 3, 4, 5, 1, 3, 1, 2, 3, 4, 5, 1, 2, 3, 4, 5, 5, 1, 3, 1, 3, 1, 2, 3, 4, 5, 1, 1, 2, 3, 4, 5, 1, 2, 3, 4, 5, 3, 2, 1, 2, 3, 4, 5, 1, 2, 4, 5, 3, 4, 1, 2, 3, 4, 5, 1, 2, 3, 4, 5, 2, 4, 1, 2, 3, 4, 5, 3, 4, 1, 2, 3, 4, 5, 5, 1, 2, 3, 4, 5, 1, 2, 3, 4, 5, 1, 2, 3, 4, 5, 4, 5, 1, 2, 3, 4, 5, 5, 1, 2, 3, 4, 5, 1, 2, 3, 4, 5, 5, 1, 2, 3, 4, 5, 1, 2, 3, 4, 5, 1, 2, 3, 4, 1, 2, 3, 4, 5, 2, 1, 2, 3, 4, 5, 1, 2, 3, 4, 5, 1, 2, 3, 4, 5, 1, 1, 2, 3, 4, 5, 1, 2, 3, 4, 5, 4, 1, 2, 3, 4, 5, 3, 3, 2, 1, 1, 2, 3, 4, 5, 2, 3, 4, 5, 5, 1, 2, 3, 4, 5, 1, 2, 3, 4, 5, 4, 4, 3, 2, 2, 5, 5, 1, 2, 3, 4, 5, 2, 3, 4, 5, 2, 3, 2, 4, 1, 2, 3, 4, 5, 1, 1, 1, 3, 4, 1, 5, 3, 4, 1, 2, 3, 4, 5, 3, 4, 1, 2, 3, 4, 5, 1, 2, 3, 4, 5, 2, 4, 1, 2, 3, 4, 5, 3, 1, 2, 3, 4, 5, 3, 3, 1, 2, 4, 1, 2, 3, 4, 5, 1, 2, 3, 4, 5, 1, 2, 3, 4, 5, 1, 2, 3, 4, 5, 1, 2, 3, 4, 5, 1, 2, 3, 4, 5, 1, 2, 3, 4, 5, 3, 2, 1, 1, 2, 3, 4, 5, 1, 2, 3, 4, 1, 3, 4, 5, 3, 2, 3, 4, 5, 5, 1, 2, 3, 4, 5, 1, 3, 1, 2, 5, 5, 1, 2, 3, 4, 5, 1, 2, 3, 4, 5, 2, 3, 1, 2, 3, 4, 5, 4, 1, 2, 3, 4, 5, 4, 1, 2, 3, 4, 5, 1, 2, 3, 4, 3, 1, 2, 3, 4, 5, 1, 2, 3, 4, 5, 1, 2, 3, 4, 5, 1, 3, 2, 2, 3, 1, 2, 3, 4, 5, 1, 2, 3, 4, 5, 1, 2, 3, 4, 5, 2, 3, 4, 1, 2, 1, 2, 3, 4, 5, 1, 2, 3, 4, 5, 1, 2, 3, 4, 1, 2, 3, 4, 1, 5, 1, 2, 3, 4, 5, 1, 3, 4, 3, 1, 3, 4, 5, 1, 2, 3, 4, 5, 2, 3, 5, 4, 1, 2, 3, 4, 5, 1, 2, 3, 4, 5, 1, 2, 3, 1, 2, 3, 4, 1, 2, 3, 4, 5, 1, 2, 3, 4, 5, 1, 2, 3, 4, 5, 1, 3, 5, 1, 2, 3, 4, 5, 2, 3, 4, 5, 2, 3, 4, 5, 1, 2, 3, 4, 5, 1, 2, 4, 1, 2, 3, 1, 1, 2, 3, 4, 5, 5, 2, 1, 2, 3, 4, 5, 2, 3, 4, 1, 2, 3, 4, 5, 1, 2, 3, 4, 5, 5, 1, 3, 4, 1, 2, 3, 4, 5, 1, 2, 3, 4, 5, 1, 2, 3, 4, 5, 4, 1, 2, 3, 4, 5, 2, 1, 2, 3, 4, 5, 3, 5, 1, 2, 3, 4, 5, 1, 2, 3, 4, 5, 2, 2, 3, 4, 1, 2, 3, 4, 5, 2, 1, 2, 3, 4, 5, 1, 2, 3, 4, 5, 2, 4, 1, 2, 3, 4, 5, 1, 2, 3, 4, 5, 1, 2, 3, 4, 5, 4, 1, 2, 3, 4, 5, 1, 2, 3, 4, 5, 3, 4, 5, 1, 2, 3, 4, 5, 5, 1, 2, 3, 4, 5, 1, 2, 3, 4, 5, 1, 2, 3, 4, 5, 1, 2, 3, 4, 5, 1, 2, 3, 4, 5, 2, 1, 2, 3, 4, 1, 2, 4, 5, 2, 1, 2, 3, 4, 5, 5, 1, 2, 3, 4, 5, 1, 2, 3, 4, 5, 1, 2, 3, 4, 5, 1, 2, 3, 4, 5, 1, 2, 3, 4, 5, 2, 4, 1, 3, 2, 3, 4, 5, 1, 1, 2, 3, 4, 5, 1, 2, 3, 4, 5, 2, 4, 5, 1, 2, 3, 4, 5, 1, 2, 3, 4, 5, 1, 3, 1, 2, 3, 4, 5, 1, 2, 3, 4, 5, 1, 2, 3, 4, 5, 2, 3, 4, 5, 1, 2, 3, 4, 5, 2, 5, 3, 1, 2, 3, 4, 5, 2, 3, 1, 2, 3, 4, 5, 1, 2, 3, 4, 5, 1, 2, 3, 4, 5, 1, 2, 3, 4, 5, 1, 1, 4, 4, 1, 3, 1, 1, 2, 3, 4, 5, 1, 2, 3, 4, 5, 2, 1, 2, 3, 4, 5, 1, 2, 3, 4, 5, 2, 1, 2, 3, 4, 5, 1, 2, 3, 4, 5, 5, 3, 4, 2, 1, 2, 3, 4, 5, 1, 2, 2, 4, 1, 1, 1, 2], \"Freq\": [0.3747642922460875, 0.3439659248605262, 0.16527440715816064, 0.09117536483448345, 0.02439474644400895, 0.38667419049168367, 0.16455494024328848, 0.3263573251225074, 0.08856047693093344, 0.03398807493025013, 0.2515631157817172, 0.12426785432884827, 0.11057244114875478, 0.5075231800054644, 0.006054814248041331, 0.2925340059815079, 0.06058396573581525, 0.08654852247973607, 0.5504486029711214, 0.010385822697568329, 0.2699145218356969, 0.06997783899443993, 0.1249604267757856, 0.5148369583162367, 0.019993668284125698, 0.2451958141144026, 0.21678059827310736, 0.3629814668759007, 0.15536706726127567, 0.01970732711573703, 0.19077504818528956, 0.21957128187363514, 0.4211449176920543, 0.15657952068037917, 0.012598352238651198, 0.07834130207093479, 0.2089101388558261, 0.5679744400142772, 0.13709727862413587, 0.003264220919622283, 0.17821330143482883, 0.26307677830855686, 0.3950866312232449, 0.14426791068533762, 0.019801477937203202, 0.876092906252747, 0.15860575461958057, 0.2114743394927741, 0.4581944022343439, 0.15566861101551427, 0.014685718020331535, 0.929506084443757, 0.8969258296026671, 0.04181087244620625, 0.9198391938165376, 0.11590943598784205, 0.22830646482453737, 0.4847121868582486, 0.15805832180160279, 0.014049628604586915, 0.8574262771898185, 0.06124473408498703, 0.9109994227547391, 0.08854996328061891, 0.8854996328061892, 0.8903131632418793, 0.04237323670214395, 0.9322112074471668, 0.9311985994206202, 0.04221669386832149, 0.9287672651030727, 0.04221669386832149, 0.5298261357853405, 0.08339190196892741, 0.07979742343578398, 0.19122625796323012, 0.11574220876721822, 0.9350105696488787, 0.011402567922547303, 0.022805135845094606, 0.022805135845094606, 0.0876168388086048, 0.876168388086048, 0.021616191267053504, 0.8862638419491936, 0.021616191267053504, 0.03242428690058025, 0.03242428690058025, 0.9380320450433292, 0.010088342191182284, 0.6179109592099149, 0.08322882307725384, 0.27995149580530837, 0.010088342191182284, 0.02023523399145043, 0.8498798276409182, 0.060705701974351295, 0.060705701974351295, 0.9264881390135434, 0.9540668003961528, 0.017346669098111868, 0.017346669098111868, 0.017346669098111868, 0.961864028202676, 0.12988532475518907, 0.32299525203671353, 0.3367397308467865, 0.1992949427460573, 0.010995583048058333, 0.9797919962484171, 0.9725725871228512, 0.91455958835496, 0.21018979430793983, 0.2873688594053865, 0.2766951589131864, 0.19787398604770898, 0.027915832056523256, 0.15197330661143377, 0.013815755146493977, 0.027631510292987955, 0.7874980433501567, 0.013815755146493977, 0.9096693817405802, 0.9347641546756102, 0.09503499503353963, 0.01583916583892327, 0.04751749751676981, 0.8077974577850868, 0.03167833167784654, 0.059552904935060796, 0.2084351672727128, 0.11910580987012159, 0.595529049350608, 0.8620474789121362, 0.013936102430450239, 0.08759835813425865, 0.027872204860900477, 0.007963487103114422, 0.014757191641125676, 0.029514383282251352, 0.11805753312900541, 0.39844417431039325, 0.4427157492337703, 0.04140325384740461, 0.9522748384903061, 0.09918234889725902, 0.03306078296575301, 0.29754704669177706, 0.5620333104178011, 0.1286972424475188, 0.8365320759088721, 0.979890736375143, 0.051778113629125176, 0.9320060453242532, 0.9775662718263621, 0.2534108383798724, 0.14840634733848881, 0.39621694619615405, 0.1778076048300762, 0.023801017969380278, 0.9081689157664774, 0.17403100552609865, 0.812144692455127, 0.056684443874882105, 0.5425511056595859, 0.17815110932105804, 0.19232222028977858, 0.030366666361543983, 0.9762944530968589, 0.0419377129791619, 0.6422461187665937, 0.1689490722874808, 0.12341669819581931, 0.023964407416663943, 0.8407733376789274, 0.033016587948298634, 0.5799435448309846, 0.13780836708855082, 0.21963208504737786, 0.028710076476781417, 0.9575083793422233, 0.9398253076692669, 0.015158472704343014, 0.030316945408686027, 0.015158472704343014, 0.9622111027553643, 0.013607856964167655, 0.8845107026708976, 0.013607856964167655, 0.06803928482083828, 0.02721571392833531, 0.15502848409188816, 0.7131310268226855, 0.015502848409188814, 0.06201139363675526, 0.05167616136396272, 0.9552881886982385, 0.9108122685001144, 0.03196511512594167, 0.06393023025188334, 0.8630581084004252, 0.14580244929183805, 0.35685914162337984, 0.3303496053885002, 0.12133210815194916, 0.045881889637291694, 0.7450787921661476, 0.022174964052563917, 0.14524601454429364, 0.07650362598134551, 0.011087482026281958, 0.7725161554027928, 0.02365535034041798, 0.1642357180777591, 0.0371726933920854, 0.003379335762916854, 0.9411089414819824, 0.978308696348041, 0.01932902071382586, 0.10630961392604223, 0.04349029660610818, 0.8166511251591425, 0.01932902071382586, 0.021647192394229634, 0.8334169071778409, 0.07576517337980372, 0.03247078859134445, 0.03247078859134445, 0.17003008455426627, 0.13485144637062496, 0.08208348909516303, 0.5863106363940216, 0.023452425455760866, 0.9093724381273365, 0.1770039381408531, 0.08030734230464631, 0.17208716208138497, 0.11144692401461122, 0.46053802423684925, 0.8806897643546209, 0.36786332455871035, 0.06912867844056302, 0.41477207064337807, 0.09134861079645827, 0.05678427157617676, 0.028129885049640792, 0.028129885049640792, 0.9282862066381461, 0.03882708666890317, 0.2163223400124605, 0.06101399333684784, 0.6600604733713539, 0.022186906667944668, 0.2909354409061252, 0.17855805829028915, 0.35581845627323605, 0.126392113935132, 0.0482729634331305, 0.03126596209403727, 0.7022816101122218, 0.07696236823147636, 0.12987399639061636, 0.06012685018084091, 0.968846228197015, 0.915598970475611, 0.06539992646254364, 0.9386311767533303, 0.022747053740211198, 0.8188939346476031, 0.06824116122063359, 0.08340586371410773, 0.007582351246737066, 0.27112342952904367, 0.6971745330746837, 0.8304440468654625, 0.011465696899523151, 0.06388031129734327, 0.07207009479700266, 0.021293437099114423, 0.8607043429607573, 0.00930491181579197, 0.0930491181579197, 0.023262279539479926, 0.00930491181579197, 0.35598147825089466, 0.018735867276362877, 0.09367933638181439, 0.037471734552725754, 0.5058684164617977, 0.11329263953295578, 0.12947730232337804, 0.06473865116168902, 0.03236932558084451, 0.6635711744073124, 0.94260602808367, 0.011425527613135394, 0.028563819032838483, 0.01713829141970309, 0.005712763806567697, 0.1175734258799576, 0.4004568565685774, 0.19713439076113193, 0.266087226991483, 0.018564225138940675, 0.06088535994853819, 0.8523950392795347, 0.06088535994853819, 0.1493138390460704, 0.3639925346702489, 0.21147453598799673, 0.22172784682377839, 0.05382988188785371, 0.9256657897018574, 0.9316195162699434, 0.025009919899864255, 0.01875743992489819, 0.01875743992489819, 0.006252479974966064, 0.9377640955409963, 0.08889101761316796, 0.8889101761316797, 0.5321766496448997, 0.11647903078728475, 0.10392440471440376, 0.16600005585253755, 0.08160506947372644, 0.8505141659021686, 0.019691334206105415, 0.06589023368966043, 0.03938266841221083, 0.024992847261595334, 0.11972108415723184, 0.05986054207861592, 0.778187047022007, 0.018792875147892983, 0.07517150059157193, 0.09396437573946491, 0.018792875147892983, 0.7705078810636122, 0.9674597939382105, 0.027641708398234585, 0.01843099923278399, 0.7802456341878555, 0.06758033052020795, 0.04914933128742397, 0.08601132975299194, 0.8399824062001775, 0.03051218142180132, 0.0646140312461675, 0.044870855032060765, 0.019743176214106737, 0.2693846712704184, 0.05387693425408367, 0.08979489042347279, 0.05387693425408367, 0.5208103644561421, 0.907568395200264, 0.9635051860389034, 0.7575889488468696, 0.010807260325918253, 0.20966085032281412, 0.017291616521469207, 0.005403630162959127, 0.9480747018107349, 0.054352453644523575, 0.07850909970875627, 0.20533149154597793, 0.13286155335327984, 0.5254070518970612, 0.011309438632091547, 0.37321147485902106, 0.6107096861329436, 0.01654009351614636, 0.12680738362378877, 0.027566822526910603, 0.08821383208611393, 0.733277479215822, 0.06002324154736963, 0.9003486232105443, 0.40327605353976687, 0.07867072397700198, 0.2544395487184118, 0.19348745626776162, 0.07016578084435311, 0.03159543741766809, 0.9162676851123748, 0.03159543741766809, 0.03159543741766809, 0.03159543741766809, 0.9328119750380587, 0.9722511132830597, 0.014957709435123995, 0.048437341366107264, 0.920309485956038, 0.5955262550321638, 0.04162280277106522, 0.26446488529922973, 0.08260525473026789, 0.015368419484701003, 0.9324855559900403, 0.015334638497732093, 0.8434051173752651, 0.09200783098639256, 0.015334638497732093, 0.030669276995464186, 0.007231263668528999, 0.7954390035381897, 0.08677516402234797, 0.09400642769087697, 0.014462527337057997, 0.9886479242485402, 0.9581169595962555, 0.22997518609020148, 0.02299751860902015, 0.06899255582706044, 0.0459950372180403, 0.5979354838345239, 0.9415373543280602, 0.02729093780661044, 0.01364546890330522, 0.01364546890330522, 0.9486640814294511, 0.9500134579868312, 0.017260703577665168, 0.05178211073299551, 0.10356422146599102, 0.36247477513096854, 0.48329970017462476, 0.7443336030301047, 0.05513582244667442, 0.05666737307019315, 0.11639784738742377, 0.02756791122333721, 0.06645626486055337, 0.9303877080477472, 0.2512030478807093, 0.23807396872318096, 0.1234133440807666, 0.3378549703203965, 0.04901522885477255, 0.03839710545523351, 0.9215305309256043, 0.3025251870213798, 0.3168717422821875, 0.12350512789738805, 0.20521811655677105, 0.05177235159334954, 0.9108423452898671, 0.029050578813847275, 0.6549585041667385, 0.13733000893818711, 0.15317577920028563, 0.023768655393147767, 0.8246894243992803, 0.010165663166709157, 0.08005459743783461, 0.06099397900025494, 0.022872742125095602, 0.10257460184544535, 0.06838306789696356, 0.7066250349352902, 0.11397177982827261, 0.011397177982827262, 0.0794140415224018, 0.8735544567464197, 0.639970517015791, 0.041797211832208164, 0.20464861265015127, 0.1013385230271462, 0.012223712894325028, 0.9405626393803035, 0.7735318262936437, 0.03872754861549204, 0.08356997332816704, 0.09376143349013863, 0.009172314145774432, 0.45342427741331653, 0.16178844814288323, 0.10971062148744873, 0.2166437588866076, 0.05832716585408666, 0.9397116058435006, 0.7259492690632284, 0.03042272948386362, 0.14791740886981966, 0.09126818845159085, 0.00419623854949843, 0.16999763517073824, 0.19833057436586127, 0.07690369210104825, 0.5342782819651773, 0.024285376452962606, 0.010307443499265653, 0.020614886998531305, 0.030922330497796958, 0.9379773584331744, 0.22792870335435467, 0.2108431386691, 0.2977250527068843, 0.242469609469465, 0.020720791214032242, 0.9249664713123144, 0.2271528960883933, 0.23737312798787108, 0.22022951318874706, 0.2831993290855295, 0.03263880509833227, 0.5849513899576434, 0.12838143663807228, 0.14238948308179478, 0.12022290409392619, 0.02401379390352431, 0.49050705767575703, 0.17472310224397883, 0.08976599748314508, 0.2127362542393923, 0.032288279706947594, 0.9694859326304218, 0.07006347500523155, 0.49491646173908244, 0.14608979894707855, 0.2638560654452337, 0.026832820214769532, 0.008346274744408924, 0.15023294539936063, 0.04173137372204462, 0.7928961007188478, 0.008346274744408924, 0.9646905783274261, 0.01953346710760919, 0.5689122295091177, 0.07080881826508331, 0.33451062421780736, 0.002441683388451149, 0.924976269162899, 0.9598272146113773, 0.9345938474400642, 0.968409599156128, 0.37145102924654844, 0.23148397474784901, 0.05921683074944975, 0.1884171887482492, 0.15073375099859937, 0.919547291284574, 0.9128923047393092, 0.04347106213044329, 0.04347106213044329, 0.9352582900295117, 0.0830560351681298, 0.6451329243291942, 0.05987760674911683, 0.03863071403168828, 0.17190667744101285, 0.13979243622863116, 0.23864565899030604, 0.363460334194441, 0.23764714158867298, 0.021967382835927755, 0.9525435565782102, 0.918139474393888, 0.8849722682716644, 0.9467495325441821, 0.9325125459619875, 0.04440535933152321, 0.8383841528874235, 0.018905153560792233, 0.018905153560792233, 0.037810307121584466, 0.37810307121584463, 0.567154606823767, 0.06420229257781884, 0.02140076419260628, 0.8988320960894637, 0.02140076419260628, 0.9716823762417376, 0.0388672950496695, 0.9648630484033743, 0.03711011724628363, 0.09250779912673066, 0.574092518110005, 0.14692415155421928, 0.1305992458259727, 0.05441635242748862, 0.9475296157983881, 0.9445086009350253, 0.9550487691466784, 0.039130600086362856, 0.9391344020727085, 0.14873252318923647, 0.8180288775408006, 0.8960823674809413, 0.059738824498729415, 0.06060594089662399, 0.5890139880890644, 0.08143923307983848, 0.23295408532139844, 0.03787871306038999, 0.9392987647078428, 0.9811383631033463, 0.12541213001121465, 0.34352018220463143, 0.265970652535861, 0.2102319280864323, 0.054527013048354195, 0.8912341499117856, 0.04843663858216226, 0.009687327716432452, 0.043592974723946035, 0.004843663858216226, 0.02589930555772615, 0.9582743056358676, 0.06619009318466532, 0.01654752329616633, 0.09928513977699796, 0.04964256988849898, 0.7777335949198174, 0.9618822304275603, 0.14903539882850111, 0.378920066302529, 0.2834594840463649, 0.17630985090169085, 0.012663138462552383, 0.9246243821558903, 0.8618972993475703, 0.9511765283195477, 0.020237798474883995, 0.020237798474883995, 0.3858699880639154, 0.1982208842794086, 0.17919167938858538, 0.2072068977000751, 0.029600985385725018, 0.11793167638472507, 0.32683921740909516, 0.3706424114948502, 0.1684738234067501, 0.015162644106607509, 0.5425827070545179, 0.11996110676935975, 0.08893668260487016, 0.18890427157933662, 0.05998055338467988, 0.24557719688482316, 0.18858670815627768, 0.3916800861707306, 0.12641526590695537, 0.04766477239114711, 0.22587264638690874, 0.2550900036309865, 0.32813339674118086, 0.1573242313142648, 0.03371233528162817, 0.23661228631457573, 0.22372490688567728, 0.15516404832393746, 0.3366183506828278, 0.047941051475502275, 0.5695152439330143, 0.08496264711354992, 0.08098002303010228, 0.22169940731191934, 0.042923837343824704, 0.8863178377398718, 0.9177059896317299, 0.975227098025257, 0.055862995675361043, 0.5503539573942977, 0.24621098093955424, 0.1406919891083167, 0.008275999359312747, 0.015591824438233893, 0.031183648876467785, 0.04677547331470168, 0.9043258174175658, 0.9121078380465258, 0.05857573271858423, 0.008367961816940604, 0.016735923633881208, 0.9604858299282768, 0.0836266358981187, 0.7526397230830683, 0.14634661282170772, 0.020906658974529674, 0.9072572449188134, 0.6466950416368277, 0.029532911737513205, 0.2158174319279811, 0.08329795618272956, 0.024232132707703143, 0.04175645480810965, 0.9186420057784123, 0.958502688573335, 0.021300059746074112, 0.021300059746074112, 0.8566500648807025, 0.08240248032653227, 0.13733746721088713, 0.6592198426122582, 0.11902580491610218, 0.004577915573696237, 0.07447157329404422, 0.25823259830532214, 0.5725606674035607, 0.0880118593475068, 0.006770143026731292, 0.06049668756984369, 0.9074503135476555, 0.08840455038074096, 0.5404732739186209, 0.21297459864451232, 0.14265279720528656, 0.016073554614680175, 0.8795660086117456, 0.09172087419749654, 0.3445125518637675, 0.11856600810895894, 0.40267700867193607, 0.040267700867193605, 0.9449905778771442, 0.24681263977286788, 0.044875025413248705, 0.063572952668769, 0.5833753303722332, 0.05609378176656088, 0.008465524015235343, 0.019752889368882465, 0.05079314409141205, 0.9199202763222405, 0.8916159683975626, 0.12592422277268683, 0.41519015165623024, 0.23242013688901625, 0.18924611765266647, 0.0374174833381698, 0.2271493058644701, 0.2810641216533132, 0.11755197540846118, 0.31818579809809044, 0.055682514667165825, 0.4695710435479433, 0.1371214608691849, 0.1276069105231598, 0.22331209341552966, 0.04253563684105327, 0.9658913052511903, 0.024147282631279757, 0.9509333722187733, 0.9350205527446223, 0.04250093421566464, 0.014655817002525969, 0.665374091914679, 0.1494893334257649, 0.05569210460959868, 0.11724653602020775, 0.4468945299538927, 0.05503768425346209, 0.4339950727069875, 0.05274444740956784, 0.011466184219471268, 0.1736848981157589, 0.24424438797528597, 0.15921115660611235, 0.38898180307175173, 0.03437513608541062, 0.9093158093513958, 0.06495112923938541, 0.032475564619692705, 0.04475786786094465, 0.9399152250798376, 0.3364392724447855, 0.03738214138275394, 0.049842855177005256, 0.0872249965597592, 0.4859678379758013, 0.04078835751324615, 0.36126830940303734, 0.19228797113387472, 0.11071125610738242, 0.2971723190250791, 0.02191042042313772, 0.02191042042313772, 0.04382084084627544, 0.8983272373486464, 0.007258497862293109, 0.07258497862293109, 0.05080948503605177, 0.86376124561288, 0.08763536847422614, 0.8763536847422614, 0.18301741516615688, 0.252342193638186, 0.268980140471473, 0.2502624502840251, 0.04506110600681893, 0.03220327432854343, 0.03220327432854343, 0.9338949555277596, 0.8585532843827677, 0.9030221441240767, 0.05746504553516852, 0.03283716887723915, 0.008209292219309787, 0.033148694636240254, 0.6196255997389525, 0.19634226823003845, 0.1376945777197672, 0.012749497937015483, 0.046149537049005, 0.23074768524502498, 0.73839259278408, 0.9085473474049653, 0.7194685967804919, 0.029092042793612424, 0.14322236452239961, 0.10405999922330599, 0.0033567741684937414, 0.4678906368445653, 0.09044375102846924, 0.13047313561726984, 0.26189036049370945, 0.0490926414768309, 0.04466862612485832, 0.04466862612485832, 0.8933725224971665, 0.03471720848085361, 0.02314480565390241, 0.16201363957731688, 0.7753509894057308, 0.01873544513712977, 0.6482464017446901, 0.056206335411389315, 0.20234280748100153, 0.07119469152109313, 0.8520944343393447, 0.012679976701478343, 0.10904779963271376, 0.02028796272236535, 0.002535995340295669, 0.7824645024705829, 0.022463095764705728, 0.12167510205882269, 0.06177351335294075, 0.009359623235294053, 0.06440913402292399, 0.9017278763209359, 0.06440913402292399, 0.4610552284594448, 0.22804882267886517, 0.12614294781029015, 0.15368507615314828, 0.030847183744001087, 0.15720245167335298, 0.26200408612225495, 0.034933878149633994, 0.5414751113193269, 0.05606048018316933, 0.8689374428391246, 0.05606048018316933, 0.028030240091584665, 0.03975227924156339, 0.6923521967905623, 0.049690349051954234, 0.19213601633422303, 0.02981420943117254, 0.9639763143315384, 0.031096010139727046, 0.9126279533135068, 0.9005192429038471, 0.005809801567121594, 0.0871470235068239, 0.9578015552250949, 0.34594481589055054, 0.20657645447861095, 0.10328822723930547, 0.2044540936449266, 0.13936836141193956, 0.8412882513147873, 0.9533274890451565, 0.027590622641927617, 0.7909311824019251, 0.08277186792578285, 0.04598437106987936, 0.055181245283855235, 0.8886228692562005, 0.0317365310448643, 0.0634730620897286, 0.6358554592402433, 0.031763896692291904, 0.2627740544544148, 0.06468284417339443, 0.005197728549647766, 0.8386764674476416, 0.021596818904231114, 0.11518303415589927, 0.021596818904231114, 0.003599469817371852, 0.8850419393450056, 0.025470380567604953, 0.025470380567604953, 0.9678744615689883, 0.8307353644912474, 0.04294059538125732, 0.09413899756660259, 0.02642498177308143, 0.006606245443270357, 0.06921405988600847, 0.6820117120474981, 0.08103109450069285, 0.0835633162038395, 0.08440739010488837, 0.03733390169200078, 0.640420005947398, 0.14933560676800312, 0.1608229611347726, 0.01148735436676947, 0.9197344839876287, 0.7770010082266402, 0.027571003517719492, 0.12532274326236134, 0.06140814419855705, 0.008772592028365294, 0.9220264169809954, 0.008843024070349897, 0.21665408972357247, 0.048636632386924436, 0.7251279737686915, 0.004421512035174949, 0.08838611602122937, 0.8838611602122937, 0.7672858422171751, 0.026027335217678936, 0.1613694783496094, 0.040602642939579145, 0.005205467043535787, 0.09738900524002975, 0.49213910647961695, 0.26230105411314675, 0.13504608726617456, 0.013634460733604165, 0.9241447778774623, 0.9054297547234622, 0.036217190188938486, 0.07243438037787697, 0.35685226497182265, 0.08326552849342529, 0.40273327046819984, 0.13254512698953413, 0.023790150998121512, 0.969134273979107, 0.43205131029299965, 0.2291614716244026, 0.1615315254015369, 0.15580899149037133, 0.02132944457798072, 0.033020455195374346, 0.016510227597687173, 0.08255113798843587, 0.8585318350797331, 0.016510227597687173, 0.9137322258753625, 0.05076290143752014, 0.014185843619170488, 0.8795223043885703, 0.014185843619170488, 0.08511506171502294, 0.014185843619170488, 0.07404230978027493, 0.31325592599347085, 0.0531585813807102, 0.4043849226461169, 0.15567870261493702, 0.8233241050396279, 0.01847201517717114, 0.12402638761814909, 0.026388593110244486, 0.007916577933073345, 0.952575198812982, 0.245386263293387, 0.12936123662749208, 0.38141560490167764, 0.22804919034331075, 0.014669830957756832, 0.22410970935901703, 0.06955128911141907, 0.2627493144209165, 0.06955128911141907, 0.37866812960661494, 0.07061527649131227, 0.07061527649131227, 0.8473833178957473, 0.7585459196681517, 0.012794750452233885, 0.16998739886539302, 0.04935118031575927, 0.007311285972705077, 0.8925821024819557, 0.8627058378586886, 0.047511335998014735, 0.0625149157868615, 0.02250536968327014, 0.00500119326294892, 0.024305118586817574, 0.04861023717363515, 0.024305118586817574, 0.8749842691254326, 0.024305118586817574, 0.29293643107071654, 0.2072897626644477, 0.14646821553535827, 0.23707990819706296, 0.11667807000274302, 0.0954047648107582, 0.5784860342493592, 0.11054837827278331, 0.09843348750316322, 0.11509146231139085, 0.04699186663597203, 0.7248495428598686, 0.07401218995165595, 0.1433251932397147, 0.010573169993093707, 0.9346907959421815, 0.016954974101031, 0.084774870505155, 0.033909948202062, 0.8647036791525811, 0.03217125780251375, 0.19302754681508252, 0.128685031210055, 0.6434251560502751, 0.9188472625496745, 0.012581750788471496, 0.8429773028275902, 0.03774525236541448, 0.03774525236541448, 0.06290875394235748, 0.9348178505598984, 0.8772094572795749, 0.028900311577040257, 0.06800073312244767, 0.023800256592856683, 0.0017000183280611917, 0.3661790082529057, 0.05935569959211688, 0.4611481276002927, 0.09040329630183956, 0.023742279836846753, 0.8349229655589664, 0.008328408634004653, 0.13325453814407445, 0.022903123743512794, 0.0020821021585011633, 0.9197533218812708, 0.00929043759476031, 0.05574262556856186, 0.00929043759476031, 0.00929043759476031, 0.12076709344159418, 0.3484200052165533, 0.31788119997844905, 0.1860090864502715, 0.02706848646104697, 0.04185865119664784, 0.9208903263262526, 0.951902875973295, 0.021634156272120342, 0.048480913006846184, 0.024240456503423092, 0.8968968906266545, 0.024240456503423092, 0.979288608354521, 0.7208640599164424, 0.02735421655932929, 0.16573437091828921, 0.05953564780559904, 0.026549680778172546, 0.8368693301663327, 0.01992546024205554, 0.06702200263236864, 0.07064481358546965, 0.007245621906202014, 0.055735773985503764, 0.8917723837680602, 0.055735773985503764, 0.47279683921863336, 0.0326066785668023, 0.10325448212820729, 0.1902056249730134, 0.20379174104251438, 0.10261499010753503, 0.539370041752731, 0.20779535496775842, 0.13211679976345134, 0.01859896695699072, 0.04477014202042528, 0.8954028404085056, 0.9745973518359159, 0.0040439724142569125, 0.012131917242770737, 0.008087944828513825, 0.0040439724142569125, 0.22654080577776592, 0.4748047025205231, 0.06361762354033153, 0.17533637707457225, 0.06051432483104706, 0.0663067120098107, 0.9017712833334256, 0.01326134240196214, 0.01326134240196214, 0.01326134240196214, 0.10596720772859498, 0.7682622560323136, 0.10596720772859498, 0.026491801932148746, 0.34596108194119285, 0.16464412935755562, 0.22994602032637518, 0.22925131935862178, 0.02987214161339617, 0.9619987349307612, 0.9311134905909094, 0.9449343379237022, 0.2474801280336458, 0.19666042647945875, 0.22218846260900388, 0.3087001406035735, 0.02481892401483554, 0.9651093837940294, 0.032170312793134315, 0.09215535956007134, 0.16587964720812842, 0.09215535956007134, 0.11058643147208562, 0.5345010854484138, 0.028142749527270253, 0.028142749527270253, 0.16885649716362153, 0.14071374763635128, 0.6191404895999456, 0.5395146514524469, 0.127759532298297, 0.1396888862177163, 0.15469678308408252, 0.03809696896846808, 0.8997740401971306, 0.02108845406712025, 0.07029484689040083, 0.007029484689040083, 0.8398649316047702, 0.9725180740749222, 0.049398204760466816, 0.9385658904488695, 0.9065682187657891, 0.9599404513408821, 0.026665012537246725, 0.9824130835133678, 0.16663417834619143, 0.17398568621440577, 0.5023530376613125, 0.13477764425059602, 0.022054523604642984, 0.39406288092759045, 0.061111355865776054, 0.45938881305997176, 0.06954050839898655, 0.01685830506642098, 0.9520461981628099, 0.2339581372698704, 0.3147494364709767, 0.20141719731386923, 0.22666447831421496, 0.023003078244759438, 0.025749267041241596, 0.7724780112372479, 0.06866471210997759, 0.12016324619246078, 0.008583089013747198, 0.9546912778821672, 0.1049768236744595, 0.467380890117498, 0.1544563456611474, 0.20861636297090042, 0.06485829233390172, 0.044241952744902106, 0.022120976372451053, 0.08848390548980421, 0.8405971021531401, 0.8595180539117946, 0.8703583164874816, 0.778700187535833, 0.1816967104250277, 0.975674089197139, 0.12854589204262132, 0.38872277753688683, 0.12340405636091645, 0.277659126812062, 0.08124100377093667, 0.9538896194541278, 0.028905746044064477, 0.0615915614454238, 0.9238734216813569, 0.9715097233546426, 0.9888577155155981, 0.9700276100925763, 0.017018028247238182], \"Term\": [\"\\n\", \"\\n\", \"\\n\", \"\\n\", \"\\n\", \"\\n\\n\", \"\\n\\n\", \"\\n\\n\", \"\\n\\n\", \"\\n\\n\", \" \", \" \", \" \", \" \", \" \", \" \\n\\n\", \" \\n\\n\", \" \\n\\n\", \" \\n\\n\", \" \\n\\n\", \"  \", \"  \", \"  \", \"  \", \"  \", \"$\", \"$\", \"$\", \"$\", \"$\", \"10\", \"10\", \"10\", \"10\", \"10\", \"15\", \"15\", \"15\", \"15\", \"15\", \"2\", \"2\", \"2\", \"2\", \"2\", \"2.00\", \"20\", \"20\", \"20\", \"20\", \"20\", \"2006\", \"2012\", \"3/5\", \"3/5\", \"30\", \"30\", \"30\", \"30\", \"30\", \"6.99\", \"6.99\", \"600\", \"accommodation\", \"accommodation\", \"acura\", \"airline\", \"airline\", \"album\", \"alex\", \"alex\", \"alex\", \"amazing\", \"amazing\", \"amazing\", \"amazing\", \"amazing\", \"ambience\", \"ambience\", \"ambience\", \"ambience\", \"angle\", \"angle\", \"apartment\", \"apartment\", \"apartment\", \"apartment\", \"apartment\", \"appliance\", \"appointment\", \"appointment\", \"appointment\", \"appointment\", \"appointment\", \"arm\", \"arm\", \"arm\", \"arm\", \"arrogant\", \"asada\", \"asada\", \"asada\", \"asada\", \"asia\", \"ask\", \"ask\", \"ask\", \"ask\", \"ask\", \"associate\", \"avec\", \"baba\", \"bad\", \"bad\", \"bad\", \"bad\", \"bad\", \"bagel\", \"bagel\", \"bagel\", \"bagel\", \"bagel\", \"baker\", \"baklava\", \"band\", \"band\", \"band\", \"band\", \"band\", \"barista\", \"barista\", \"barista\", \"barista\", \"beef\", \"beef\", \"beef\", \"beef\", \"beef\", \"bike\", \"bike\", \"bike\", \"bike\", \"bike\", \"blind\", \"blind\", \"boba\", \"boba\", \"boba\", \"boba\", \"bouchon\", \"bouchon\", \"braise\", \"brake\", \"brake\", \"brewery\", \"bring\", \"bring\", \"bring\", \"bring\", \"bring\", \"burro\", \"bust\", \"bust\", \"buy\", \"buy\", \"buy\", \"buy\", \"buy\", \"cajun\", \"call\", \"call\", \"call\", \"call\", \"call\", \"camper\", \"car\", \"car\", \"car\", \"car\", \"car\", \"carl\", \"carne\", \"carne\", \"carne\", \"carne\", \"carolina\", \"carpet\", \"carpet\", \"carpet\", \"carpet\", \"carpet\", \"casino\", \"casino\", \"casino\", \"casino\", \"casino\", \"certificate\", \"cha\", \"chai\", \"chai\", \"chai\", \"check\", \"check\", \"check\", \"check\", \"check\", \"cheese\", \"cheese\", \"cheese\", \"cheese\", \"cheese\", \"chicken\", \"chicken\", \"chicken\", \"chicken\", \"chicken\", \"chive\", \"cirque\", \"class\", \"class\", \"class\", \"class\", \"class\", \"cleaning\", \"cleaning\", \"cleaning\", \"cleaning\", \"cleaning\", \"club\", \"club\", \"club\", \"club\", \"club\", \"coca\", \"coffee\", \"coffee\", \"coffee\", \"coffee\", \"coffee\", \"cola\", \"cold\", \"cold\", \"cold\", \"cold\", \"cold\", \"collection\", \"collection\", \"collection\", \"color\", \"color\", \"color\", \"color\", \"color\", \"come\", \"come\", \"come\", \"come\", \"come\", \"company\", \"company\", \"company\", \"company\", \"company\", \"concoction\", \"coney\", \"coney\", \"consult\", \"contact\", \"contact\", \"contact\", \"contact\", \"contact\", \"cox\", \"cox\", \"cream\", \"cream\", \"cream\", \"cream\", \"cream\", \"crispy\", \"crispy\", \"crispy\", \"crispy\", \"crispy\", \"croissant\", \"croissant\", \"croissant\", \"croissant\", \"croissant\", \"cupcake\", \"cupcake\", \"cupcake\", \"cupcake\", \"cupcake\", \"curry\", \"curry\", \"curry\", \"curry\", \"curry\", \"customer\", \"customer\", \"customer\", \"customer\", \"customer\", \"cuz\", \"cuz\", \"cuz\", \"day\", \"day\", \"day\", \"day\", \"day\", \"daytime\", \"de\", \"de\", \"de\", \"de\", \"de\", \"debbie\", \"dedicated\", \"dedicated\", \"definitely\", \"definitely\", \"definitely\", \"definitely\", \"definitely\", \"delicious\", \"delicious\", \"delicious\", \"delicious\", \"delicious\", \"dent\", \"dent\", \"dent\", \"dental\", \"dental\", \"dental\", \"dental\", \"dental\", \"des\", \"des\", \"desk\", \"desk\", \"desk\", \"desk\", \"desk\", \"dessert\", \"dessert\", \"dessert\", \"dessert\", \"dessert\", \"dim\", \"dim\", \"dim\", \"dim\", \"dim\", \"disgust\", \"disgusted\", \"dish\", \"dish\", \"dish\", \"dish\", \"dish\", \"dont\", \"donut\", \"donut\", \"donut\", \"donut\", \"donut\", \"dr\", \"dr\", \"dr\", \"dr.\", \"dr.\", \"dr.\", \"dr.\", \"dr.\", \"drama\", \"drama\", \"drink\", \"drink\", \"drink\", \"drink\", \"drink\", \"dryer\", \"dryer\", \"dryer\", \"dryer\", \"dryer\", \"drywall\", \"dumpling\", \"dumpling\", \"dunkin\", \"dunkin\", \"eat\", \"eat\", \"eat\", \"eat\", \"eat\", \"eclectic\", \"elevator\", \"elevator\", \"elevator\", \"elevator\", \"elevator\", \"email\", \"email\", \"email\", \"email\", \"email\", \"enchilada\", \"escrow\", \"espresso\", \"espresso\", \"espresso\", \"espresso\", \"espresso\", \"et\", \"et\", \"et\", \"et\", \"evaluate\", \"extension\", \"facial\", \"facial\", \"facial\", \"facial\", \"facial\", \"favorite\", \"favorite\", \"favorite\", \"favorite\", \"favorite\", \"fe\", \"fe\", \"feel\", \"feel\", \"feel\", \"feel\", \"feel\", \"female\", \"female\", \"find\", \"find\", \"find\", \"find\", \"find\", \"firmly\", \"fix\", \"fix\", \"fix\", \"fix\", \"fix\", \"flavor\", \"flavor\", \"flavor\", \"flavor\", \"flavor\", \"fly\", \"fly\", \"fly\", \"fly\", \"fly\", \"fog\", \"fog\", \"food\", \"food\", \"food\", \"food\", \"food\", \"france\", \"fresh\", \"fresh\", \"fresh\", \"fresh\", \"fresh\", \"friendly\", \"friendly\", \"friendly\", \"friendly\", \"friendly\", \"friggin\", \"fry\", \"fry\", \"fry\", \"fry\", \"fry\", \"game\", \"game\", \"game\", \"game\", \"game\", \"gel\", \"gel\", \"gel\", \"gel\", \"get\", \"get\", \"get\", \"get\", \"get\", \"ghetto\", \"go\", \"go\", \"go\", \"go\", \"go\", \"good\", \"good\", \"good\", \"good\", \"good\", \"great\", \"great\", \"great\", \"great\", \"great\", \"grub\", \"guy\", \"guy\", \"guy\", \"guy\", \"guy\", \"gym\", \"gym\", \"gym\", \"gym\", \"gym\", \"hahaha\", \"hair\", \"hair\", \"hair\", \"hair\", \"hair\", \"hakka\", \"harbor\", \"heartbeat\", \"hibachi\", \"highly\", \"highly\", \"highly\", \"highly\", \"highly\", \"hobby\", \"hollandaise\", \"hollandaise\", \"hollandaise\", \"hospitable\", \"hotel\", \"hotel\", \"hotel\", \"hotel\", \"hotel\", \"hour\", \"hour\", \"hour\", \"hour\", \"hour\", \"howard\", \"humor\", \"hush\", \"id\", \"ikea\", \"ikea\", \"immaculate\", \"instal\", \"instal\", \"instal\", \"instal\", \"instal\", \"instructor\", \"instructor\", \"instructor\", \"instructor\", \"ipad\", \"ipad\", \"iphone\", \"iphone\", \"issue\", \"issue\", \"issue\", \"issue\", \"issue\", \"izakaya\", \"j'ai\", \"je\", \"jennifer\", \"jennifer\", \"jim\", \"jim\", \"jimmy\", \"jimmy\", \"job\", \"job\", \"job\", \"job\", \"job\", \"johns\", \"keg\", \"know\", \"know\", \"know\", \"know\", \"know\", \"la\", \"la\", \"la\", \"la\", \"la\", \"lash\", \"lash\", \"latte\", \"latte\", \"latte\", \"latte\", \"latte\", \"lawyer\", \"leave\", \"leave\", \"leave\", \"leave\", \"leave\", \"legal\", \"lentil\", \"les\", \"les\", \"les\", \"like\", \"like\", \"like\", \"like\", \"like\", \"line\", \"line\", \"line\", \"line\", \"line\", \"little\", \"little\", \"little\", \"little\", \"little\", \"location\", \"location\", \"location\", \"location\", \"location\", \"long\", \"long\", \"long\", \"long\", \"long\", \"look\", \"look\", \"look\", \"look\", \"look\", \"love\", \"love\", \"love\", \"love\", \"love\", \"luxurious\", \"macy\", \"mais\", \"manager\", \"manager\", \"manager\", \"manager\", \"manager\", \"manicure\", \"manicure\", \"manicure\", \"manicure\", \"margarita\", \"margarita\", \"margarita\", \"margarita\", \"mayonnaise\", \"medical\", \"medical\", \"medical\", \"medical\", \"medicine\", \"menu\", \"menu\", \"menu\", \"menu\", \"menu\", \"menus\", \"menus\", \"michael\", \"michael\", \"michael\", \"mikey\", \"min\", \"min\", \"min\", \"min\", \"min\", \"minute\", \"minute\", \"minute\", \"minute\", \"minute\", \"mississauga\", \"mississauga\", \"money\", \"money\", \"money\", \"money\", \"money\", \"monitor\", \"month\", \"month\", \"month\", \"month\", \"month\", \"msg\", \"music\", \"music\", \"music\", \"music\", \"music\", \"nail\", \"nail\", \"nail\", \"nail\", \"nancy\", \"need\", \"need\", \"need\", \"need\", \"need\", \"new\", \"new\", \"new\", \"new\", \"new\", \"nice\", \"nice\", \"nice\", \"nice\", \"nice\", \"nigiri\", \"nigiri\", \"nordstrom\", \"notify\", \"notify\", \"office\", \"office\", \"office\", \"office\", \"office\", \"order\", \"order\", \"order\", \"order\", \"order\", \"owner\", \"owner\", \"owner\", \"owner\", \"owner\", \"pant\", \"pant\", \"pant\", \"passenger\", \"passenger\", \"pastry\", \"pastry\", \"pastry\", \"pastry\", \"pastry\", \"patient\", \"patient\", \"patient\", \"patient\", \"patient\", \"pedi\", \"pedi\", \"pedi\", \"pedi\", \"pedicure\", \"pedicure\", \"pedicure\", \"pedicure\", \"penn\", \"penn\", \"people\", \"people\", \"people\", \"people\", \"people\", \"perform\", \"perform\", \"perform\", \"peter\", \"pho\", \"pho\", \"pho\", \"pho\", \"phone\", \"phone\", \"phone\", \"phone\", \"phone\", \"physician\", \"physician\", \"physician\", \"pinball\", \"pizza\", \"pizza\", \"pizza\", \"pizza\", \"pizza\", \"place\", \"place\", \"place\", \"place\", \"place\", \"poach\", \"poach\", \"poach\", \"polish\", \"polish\", \"polish\", \"polish\", \"pool\", \"pool\", \"pool\", \"pool\", \"pool\", \"pork\", \"pork\", \"pork\", \"pork\", \"pork\", \"portion\", \"portion\", \"portion\", \"portion\", \"portion\", \"possibility\", \"possibility\", \"possibility\", \"price\", \"price\", \"price\", \"price\", \"price\", \"procedure\", \"procedure\", \"procedure\", \"procedure\", \"puppy\", \"puppy\", \"puppy\", \"puppy\", \"purchase\", \"purchase\", \"purchase\", \"purchase\", \"purchase\", \"que\", \"que\", \"queue\", \"raman\", \"raman\", \"raman\", \"ranchero\", \"recommend\", \"recommend\", \"recommend\", \"recommend\", \"recommend\", \"reflexology\", \"removal\", \"rent\", \"rent\", \"rent\", \"rent\", \"rent\", \"reschedule\", \"reschedule\", \"reschedule\", \"restaurant\", \"restaurant\", \"restaurant\", \"restaurant\", \"restaurant\", \"rice\", \"rice\", \"rice\", \"rice\", \"rice\", \"rick\", \"robert\", \"robert\", \"robert\", \"roll\", \"roll\", \"roll\", \"roll\", \"roll\", \"room\", \"room\", \"room\", \"room\", \"room\", \"rude\", \"rude\", \"rude\", \"rude\", \"rude\", \"rv\", \"salad\", \"salad\", \"salad\", \"salad\", \"salad\", \"salesperson\", \"salon\", \"salon\", \"salon\", \"salon\", \"salon\", \"sammy\", \"sammy\", \"sauce\", \"sauce\", \"sauce\", \"sauce\", \"sauce\", \"say\", \"say\", \"say\", \"say\", \"say\", \"scheduling\", \"seal\", \"seal\", \"seal\", \"seat\", \"seat\", \"seat\", \"seat\", \"seat\", \"secure\", \"service\", \"service\", \"service\", \"service\", \"service\", \"session\", \"session\", \"session\", \"session\", \"session\", \"shady\", \"shady\", \"shoe\", \"shoe\", \"shoe\", \"shoe\", \"shoe\", \"shop\", \"shop\", \"shop\", \"shop\", \"shop\", \"shrimp\", \"shrimp\", \"shrimp\", \"shrimp\", \"shrimp\", \"singing\", \"sit\", \"sit\", \"sit\", \"sit\", \"sit\", \"skin\", \"skin\", \"skin\", \"skin\", \"skin\", \"sore\", \"sore\", \"sore\", \"soup\", \"soup\", \"soup\", \"soup\", \"soup\", \"specially\", \"spicy\", \"spicy\", \"spicy\", \"spicy\", \"spicy\", \"spray\", \"spray\", \"spray\", \"spray\", \"spray\", \"staff\", \"staff\", \"staff\", \"staff\", \"staff\", \"stay\", \"stay\", \"stay\", \"stay\", \"stay\", \"store\", \"store\", \"store\", \"store\", \"store\", \"structure\", \"studio\", \"studio\", \"studio\", \"studio\", \"study\", \"study\", \"study\", \"study\", \"substitution\", \"suite\", \"suite\", \"suite\", \"suite\", \"suite\", \"surgeon\", \"sushi\", \"sushi\", \"sushi\", \"sushi\", \"sushi\", \"table\", \"table\", \"table\", \"table\", \"table\", \"taco\", \"taco\", \"taco\", \"taco\", \"taco\", \"tacos\", \"tacos\", \"tacos\", \"tacos\", \"tacos\", \"take\", \"take\", \"take\", \"take\", \"take\", \"talented\", \"talented\", \"tamale\", \"tamale\", \"tan\", \"tan\", \"tan\", \"tan\", \"tartar\", \"taste\", \"taste\", \"taste\", \"taste\", \"taste\", \"tasty\", \"tasty\", \"tasty\", \"tasty\", \"tasty\", \"tater\", \"tater\", \"tater\", \"tea\", \"tea\", \"tea\", \"tea\", \"tea\", \"tell\", \"tell\", \"tell\", \"tell\", \"tell\", \"terminal\", \"terminal\", \"thai\", \"thai\", \"thai\", \"thai\", \"thai\", \"thank\", \"thank\", \"thank\", \"thank\", \"thank\", \"theater\", \"theater\", \"theater\", \"theater\", \"theater\", \"therapist\", \"therapist\", \"therapist\", \"therapist\", \"think\", \"think\", \"think\", \"think\", \"think\", \"thread\", \"thrive\", \"tiffany\", \"time\", \"time\", \"time\", \"time\", \"time\", \"tint\", \"tint\", \"tower\", \"tower\", \"tower\", \"tower\", \"tower\", \"trail\", \"trail\", \"trail\", \"trail\", \"trail\", \"try\", \"try\", \"try\", \"try\", \"try\", \"tuna\", \"tuna\", \"tuna\", \"tuna\", \"und\", \"une\", \"urban\", \"urban\", \"verify\", \"vietnamese\", \"vietnamese\", \"vous\", \"wait\", \"wait\", \"wait\", \"wait\", \"wait\", \"waitress\", \"waitress\", \"waitress\", \"waitress\", \"waitress\", \"walmart\", \"want\", \"want\", \"want\", \"want\", \"want\", \"wear\", \"wear\", \"wear\", \"wear\", \"wear\", \"weed\", \"work\", \"work\", \"work\", \"work\", \"work\", \"workout\", \"workout\", \"workout\", \"workout\", \"worse\", \"wth\", \"x\", \"x\", \"xs\", \"year\", \"year\", \"year\", \"year\", \"year\", \"yellowtail\", \"yellowtail\", \"yoga\", \"yoga\", \"yuck\", \"yuk\", \"\\u00e0\", \"\\u00e0\"]}, \"R\": 30, \"lambda.step\": 0.01, \"plot.opts\": {\"xlab\": \"PC1\", \"ylab\": \"PC2\"}, \"topic.order\": [4, 1, 2, 3, 5]};\n",
              "\n",
              "function LDAvis_load_lib(url, callback){\n",
              "  var s = document.createElement('script');\n",
              "  s.src = url;\n",
              "  s.async = true;\n",
              "  s.onreadystatechange = s.onload = callback;\n",
              "  s.onerror = function(){console.warn(\"failed to load library \" + url);};\n",
              "  document.getElementsByTagName(\"head\")[0].appendChild(s);\n",
              "}\n",
              "\n",
              "if(typeof(LDAvis) !== \"undefined\"){\n",
              "   // already loaded: just create the visualization\n",
              "   !function(LDAvis){\n",
              "       new LDAvis(\"#\" + \"ldavis_el23021322144199334403345147273\", ldavis_el23021322144199334403345147273_data);\n",
              "   }(LDAvis);\n",
              "}else if(typeof define === \"function\" && define.amd){\n",
              "   // require.js is available: use it to load d3/LDAvis\n",
              "   require.config({paths: {d3: \"https://d3js.org/d3.v5\"}});\n",
              "   require([\"d3\"], function(d3){\n",
              "      window.d3 = d3;\n",
              "      LDAvis_load_lib(\"https://cdn.jsdelivr.net/gh/bmabey/pyLDAvis@3.4.0/pyLDAvis/js/ldavis.v3.0.0.js\", function(){\n",
              "        new LDAvis(\"#\" + \"ldavis_el23021322144199334403345147273\", ldavis_el23021322144199334403345147273_data);\n",
              "      });\n",
              "    });\n",
              "}else{\n",
              "    // require.js not available: dynamically load d3 & LDAvis\n",
              "    LDAvis_load_lib(\"https://d3js.org/d3.v5.js\", function(){\n",
              "         LDAvis_load_lib(\"https://cdn.jsdelivr.net/gh/bmabey/pyLDAvis@3.4.0/pyLDAvis/js/ldavis.v3.0.0.js\", function(){\n",
              "                 new LDAvis(\"#\" + \"ldavis_el23021322144199334403345147273\", ldavis_el23021322144199334403345147273_data);\n",
              "            })\n",
              "         });\n",
              "}\n",
              "</script>"
            ]
          },
          "metadata": {},
          "execution_count": 25
        }
      ],
      "source": [
        "# Cell for pyLDAvis visualization\n",
        "!pip install pyLDAvis\n",
        "\n",
        "# Optional: Comment out these lines before submission\n",
        "import pyLDAvis.gensim_models\n",
        "import pyLDAvis\n",
        "\n",
        "# Visualize the topics\n",
        "pyLDAvis.enable_notebook()\n",
        "vis = pyLDAvis.gensim_models.prepare(lda, corpus, id2word)\n",
        "vis\n"
      ]
    },
    {
      "cell_type": "code",
      "execution_count": null,
      "metadata": {
        "deletable": false,
        "nbgrader": {
          "cell_type": "code",
          "checksum": "2cb1397c6a59aa5751d77bad34994f29",
          "grade": false,
          "grade_id": "cell-9b043e992fbd218c",
          "locked": false,
          "schema_version": 3,
          "solution": true,
          "task": false
        },
        "id": "z3QNCN2NyCq7",
        "colab": {
          "base_uri": "https://localhost:8080/",
          "height": 1000
        },
        "outputId": "c91d3f45-6ab3-48c6-e000-af5ac44be624"
      },
      "outputs": [
        {
          "output_type": "stream",
          "name": "stderr",
          "text": [
            "/usr/local/lib/python3.10/dist-packages/ipykernel/ipkernel.py:283: DeprecationWarning: `should_run_async` will not call `transform_cell` automatically in the future. Please pass the result to `transformed_cell` argument and any exception that happen during thetransform in `preprocessing_exc_tuple` in IPython 7.17 and above.\n",
            "  and should_run_async(code)\n"
          ]
        },
        {
          "output_type": "display_data",
          "data": {
            "text/plain": [
              "<Figure size 1000x1500 with 5 Axes>"
            ],
            "image/png": "[encoded data removed]"
          },
          "metadata": {}
        }
      ],
      "source": [
        "# Function to filter and check tokens\n",
        "def filter_tokens(topic_words):\n",
        "    filtered = []\n",
        "    for item in topic_words:\n",
        "        if isinstance(item, tuple) and isinstance(item[0], str) and item[0].strip():\n",
        "            filtered.append(item)\n",
        "    return filtered\n",
        "\n",
        "# Updated Code with Matplotlib Visualization\n",
        "import matplotlib.pyplot as plt\n",
        "\n",
        "# Get the top words for each topic\n",
        "num_words = 10  # Number of top words to display\n",
        "topics = lda.show_topics(num_topics=num_topics, num_words=num_words, formatted=False)\n",
        "\n",
        "# Create a figure with subplots\n",
        "fig, axes = plt.subplots(num_topics, 1, figsize=(10, 15), sharex=True)\n",
        "\n",
        "# Plot each topic\n",
        "for i, topic in topics:\n",
        "    ax = axes[i]\n",
        "    # Filter the tokens\n",
        "    filtered_topic = filter_tokens(topic[1])\n",
        "    if filtered_topic:  # Ensure there are tokens left after filtering\n",
        "        words, weights = zip(*filtered_topic)  # topic[1] should be a list of tuples (word, weight)\n",
        "        ax.barh(words, weights, color='skyblue')\n",
        "        ax.set_title(f'Topic {i}')\n",
        "        ax.invert_yaxis()  # Reverse the order of words\n",
        "\n",
        "plt.tight_layout()\n",
        "visual_plot = fig  # Assign the visualization to the variable visual_plot\n",
        "\n",
        "# Display the plot\n",
        "plt.show()\n",
        "\n",
        "\n"
      ]
    },
    {
      "cell_type": "code",
      "execution_count": null,
      "metadata": {
        "deletable": false,
        "editable": false,
        "nbgrader": {
          "cell_type": "code",
          "checksum": "97e1c557c7e019c69cc2714b055fb767",
          "grade": true,
          "grade_id": "cell-f5fa579a25122b47",
          "locked": true,
          "points": 1,
          "schema_version": 3,
          "solution": false,
          "task": false
        },
        "id": "b5OIdVxoyCq7",
        "colab": {
          "base_uri": "https://localhost:8080/"
        },
        "outputId": "68590999-2c64-47fe-b41b-d5496e876fd8"
      },
      "outputs": [
        {
          "output_type": "stream",
          "name": "stderr",
          "text": [
            "/usr/local/lib/python3.10/dist-packages/ipykernel/ipkernel.py:283: DeprecationWarning: `should_run_async` will not call `transform_cell` automatically in the future. Please pass the result to `transformed_cell` argument and any exception that happen during thetransform in `preprocessing_exc_tuple` in IPython 7.17 and above.\n",
            "  and should_run_async(code)\n"
          ]
        }
      ],
      "source": [
        "# Visible testing\n",
        "assert visual_plot is not None, \"Variable 'visual_plot' is not created.\""
      ]
    }
  ],
  "metadata": {
    "kernel_info": {
      "name": "u4-s1-nlp"
    },
    "kernelspec": {
      "display_name": "Python 3.10.2 64-bit",
      "language": "python",
      "name": "python3"
    },
    "language_info": {
      "codemirror_mode": {
        "name": "ipython",
        "version": 3
      },
      "file_extension": ".py",
      "mimetype": "text/x-python",
      "name": "python",
      "nbconvert_exporter": "python",
      "pygments_lexer": "ipython3",
      "version": "3.10.2"
    },
    "nteract": {
      "version": "0.15.0"
    },
    "toc-autonumbering": false,
    "vscode": {
      "interpreter": {
        "hash": "aee8b7b246df8f9039afb4144a1f6fd8d2ca17a180786b69acc140d282b71a49"
      }
    },
    "colab": {
      "provenance": []
    }
  },
  "nbformat": 4,
  "nbformat_minor": 0
}