{
  "nbformat": 4,
  "nbformat_minor": 0,
  "metadata": {
    "colab": {
      "provenance": []
    },
    "kernelspec": {
      "name": "python3",
      "display_name": "Python 3"
    },
    "language_info": {
      "name": "python"
    }
  },
  "cells": [
    {
      "cell_type": "code",
      "execution_count": 2,
      "metadata": {
        "id": "UCR1BeTStTXh",
        "colab": {
          "base_uri": "https://localhost:8080/"
        },
        "outputId": "816e1889-614a-4452-8419-a662e5df6ce1"
      },
      "outputs": [
        {
          "output_type": "stream",
          "name": "stdout",
          "text": [
            "Accuracy score of guessing: 0.34444444444444444\n",
            "Accuracy score of the logistic regression model: 0.9666666666666667\n"
          ]
        }
      ],
      "source": [
        "# Import necessary libraries\n",
        "import pandas as pd\n",
        "from sklearn.datasets import load_iris\n",
        "from sklearn.model_selection import train_test_split\n",
        "\n",
        "# Load iris dataset\n",
        "iris = load_iris()\n",
        "\n",
        "# Create a pandas dataframe with features and target\n",
        "df = pd.DataFrame(data=iris.data, columns=iris.feature_names)\n",
        "df['target'] = iris.target\n",
        "\n",
        "# Choose target column\n",
        "target_col = 'target'\n",
        "\n",
        "# Decide on the task and metric\n",
        "# For this example, let's assume we're doing classification and will use accuracy\n",
        "task = 'classification'\n",
        "metric = 'accuracy'\n",
        "\n",
        "# Split the data into train, validation, and test sets\n",
        "train, test = train_test_split(df, test_size=0.2, random_state=42)\n",
        "train, val = train_test_split(train, test_size=0.25, random_state=42)\n",
        "\n",
        "# Clean the data and exclude any irrelevant features\n",
        "# In this example, we will not exclude any features and assume the data is clean\n",
        "features = iris.feature_names\n",
        "\n",
        "# Get a summary of the numerical features\n",
        "train[features].describe()\n",
        "\n",
        "# Get the most common class in the target column\n",
        "most_common_class = train[target_col].mode()[0]\n",
        "\n",
        "# Calculate the frequency of the most common class in the training set\n",
        "frequency = sum(train[target_col] == most_common_class) / len(train)\n",
        "\n",
        "# Calculate the accuracy score of guessing the most common class\n",
        "guessing_score = frequency\n",
        "print('Accuracy score of guessing:', guessing_score)\n",
        "\n",
        "# Import necessary libraries\n",
        "from sklearn.linear_model import LogisticRegression\n",
        "from sklearn.metrics import accuracy_score\n",
        "\n",
        "# Create the model object\n",
        "model = LogisticRegression(random_state=42)\n",
        "\n",
        "# Fit the model on the training data\n",
        "model.fit(train[features], train[target_col])\n",
        "\n",
        "# Make predictions on the validation data\n",
        "val_predictions = model.predict(val[features])\n",
        "\n",
        "# Calculate the accuracy score on the validation data\n",
        "val_score = accuracy_score(val[target_col], val_predictions)\n",
        "\n",
        "print('Accuracy score of the logistic regression model:', val_score)\n",
        "\n",
        "\n"
      ]
    }
  ]
}